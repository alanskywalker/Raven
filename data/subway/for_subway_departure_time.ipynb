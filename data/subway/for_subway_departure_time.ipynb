{
 "cells": [
  {
   "cell_type": "markdown",
   "metadata": {},
   "source": [
    "- 입력 : line, current_station, next_station, arriving_time, exit\n",
    "- 출력 : 가장 빠른 지하철 시간"
   ]
  },
  {
   "cell_type": "code",
   "execution_count": 2,
   "metadata": {},
   "outputs": [],
   "source": [
    "import pandas as pd"
   ]
  },
  {
   "cell_type": "code",
   "execution_count": 3,
   "metadata": {},
   "outputs": [],
   "source": [
    "import sqlite3\n",
    "import sqlalchemy\n",
    "from sqlalchemy import create_engine"
   ]
  },
  {
   "cell_type": "code",
   "execution_count": 4,
   "metadata": {},
   "outputs": [],
   "source": [
    "con1 = sqlite3.connect('subway_timetable.db')\n",
    "con2 = sqlite3.connect('subway_inner_path.db') "
   ]
  },
  {
   "cell_type": "code",
   "execution_count": 25,
   "metadata": {},
   "outputs": [],
   "source": [
    "df1 = pd.read_sql_query(\"SELECT * FROM subway_timetable\", con1)\n",
    "df2 = pd.read_sql_query(\"SELECT * FROM subway_inner_path\", con2)"
   ]
  },
  {
   "cell_type": "code",
   "execution_count": 52,
   "metadata": {},
   "outputs": [],
   "source": [
    "# line code 받음\n",
    "\n",
    "def subway_departure_time(line_code, current_station, next_station, for_hour, for_minute, exit_code):\n",
    "    # line과 current_station에 승강기 이용 가능한지 탐색\n",
    "    line_dic = {'1':'1호선', '2':'2호선', '3':'3호선', '4':'4호선', '5':'5호선', '6':'6호선', \n",
    "                '7':'7호선', '8':'8호선', '9':'9호선','K':'경의선/중앙선', 'B':'분당선/수인선', \n",
    "                'G':'경춘선', 'S':'신분당선', 'A':'공항철도', 'SU':'분당선/수인선'}\n",
    "\n",
    "    ele = 0\n",
    "    if (line_dic[line_code] in df2.line.unique()) and (current_station in df2.station.unique()):\n",
    "        for i in df2[df2.line==line_dic[line_code]][df2.station == current_station].inner_path:\n",
    "            if line_dic[exit_code] in i:\n",
    "                ele = 1\n",
    "                break\n",
    "                \n",
    "        # 만약 해당 출구에 승강기가 없는 경우, 승강기가 있는 출구로 반환\n",
    "        if ele == 0:\n",
    "            for_exit = i.split(' ↔ ')[-1]\n",
    "        \n",
    "        # 승강장에 도착한 시간 = 도착시간 + 이동시간\n",
    "        moving_time = int(df2[df2.line==line_dic[line_code]][df2.station == current_station][df2.inner_path == i].time)\n",
    "        for_time = for_minute + moving_time\n",
    "        \n",
    "        _hour = int(for_time/60) + for_hour\n",
    "        _minute = for_time % 60\n",
    "        \n",
    "        # 승강장에 도착한 시간에서 가장 빨리오는 지하철 시간 반환\n",
    "        temp = df1[df1.line == line_dic[line_code]][df1.station == current_station][df1.next_station == next_station]\n",
    "        hour_list = list(temp.iloc[:, 7])\n",
    "        minute_list = list(temp.iloc[:, 8])\n",
    "        \n",
    "        for k in range(len(hour_list)):\n",
    "            if hour_list[k] >= _hour:\n",
    "                if minute_list[k] >= _minute:\n",
    "                    break\n",
    "        \n",
    "        if minute_list[k] < _minute:\n",
    "            waiting_time = 60 + minute_list[k] - _minute\n",
    "        else:\n",
    "            waiting_time = minute_list[k] - _minute\n",
    "            \n",
    "        for_way_ = df2[df2.line==line_dic[line_code]][df2.station == current_station][df2.inner_path == i].facilities\n",
    "        for l in for_way_:\n",
    "            for_way = str(l).split(' ↔ ')\n",
    "        for_inner_ = i.split(' ↔ ')\n",
    "        \n",
    "        output_path = []\n",
    "        for cnt in range(len(for_inner_)-1):\n",
    "            output = \"\"\n",
    "            output += (for_inner_[cnt] +\"부터 \" + for_inner_[cnt+1] + \"까지 \" + for_way[cnt] + \"로 이동\") \n",
    "            output_path.append(output)\n",
    "            \n",
    "        return for_exit, moving_time, waiting_time, str(hour_list[k]) + \"시 \" + str(minute_list[k]) + \"분\", output_path\n",
    "    else:\n",
    "        return False"
   ]
  },
  {
   "cell_type": "code",
   "execution_count": 53,
   "metadata": {},
   "outputs": [
    {
     "name": "stderr",
     "output_type": "stream",
     "text": [
      "C:\\Users\\sony\\Anaconda3\\lib\\site-packages\\ipykernel_launcher.py:11: UserWarning: Boolean Series key will be reindexed to match DataFrame index.\n",
      "  # This is added back by InteractiveShellApp.init_path()\n",
      "C:\\Users\\sony\\Anaconda3\\lib\\site-packages\\ipykernel_launcher.py:21: UserWarning: Boolean Series key will be reindexed to match DataFrame index.\n",
      "C:\\Users\\sony\\Anaconda3\\lib\\site-packages\\ipykernel_launcher.py:28: UserWarning: Boolean Series key will be reindexed to match DataFrame index.\n",
      "C:\\Users\\sony\\Anaconda3\\lib\\site-packages\\ipykernel_launcher.py:42: UserWarning: Boolean Series key will be reindexed to match DataFrame index.\n"
     ]
    },
    {
     "data": {
      "text/plain": [
       "('4번 출구',\n",
       " 18,\n",
       " 7,\n",
       " '6시 40분',\n",
       " ['승강장부터 지하 2층까지 엘리베이터로 이동', '지하 2층부터 4번 출구까지 휠체어 리프트로 이동'])"
      ]
     },
     "execution_count": 53,
     "metadata": {},
     "output_type": "execute_result"
    }
   ],
   "source": [
    "subway_departure_time('6', '상수', '광흥창', 6, 15, '2')"
   ]
  },
  {
   "cell_type": "markdown",
   "metadata": {},
   "source": [
    "---"
   ]
  }
 ],
 "metadata": {
  "kernelspec": {
   "display_name": "Python 3",
   "language": "python",
   "name": "python3"
  },
  "language_info": {
   "codemirror_mode": {
    "name": "ipython",
    "version": 3
   },
   "file_extension": ".py",
   "mimetype": "text/x-python",
   "name": "python",
   "nbconvert_exporter": "python",
   "pygments_lexer": "ipython3",
   "version": "3.6.5"
  }
 },
 "nbformat": 4,
 "nbformat_minor": 2
}
