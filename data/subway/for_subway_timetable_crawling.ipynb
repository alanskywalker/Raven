{
 "cells": [
  {
   "cell_type": "markdown",
   "metadata": {},
   "source": [
    "# Subway_Timetable_DB"
   ]
  },
  {
   "cell_type": "markdown",
   "metadata": {},
   "source": [
    "http://subway.koreatriptips.com/subway-station.html 에서 지하철 역당 시간표를 Crawling 한다."
   ]
  },
  {
   "cell_type": "code",
   "execution_count": 1,
   "metadata": {},
   "outputs": [],
   "source": [
    "from selenium import webdriver\n",
    "from selenium.webdriver.common.keys import Keys\n",
    "from bs4 import BeautifulSoup\n",
    "import time"
   ]
  },
  {
   "cell_type": "code",
   "execution_count": 2,
   "metadata": {},
   "outputs": [],
   "source": [
    "import sqlite3\n",
    "import sqlalchemy\n",
    "from sqlalchemy import create_engine\n",
    "from sqlalchemy import MetaData\n",
    "from sqlalchemy import Table, Column, Integer, String, MetaData, ForeignKey"
   ]
  },
  {
   "cell_type": "markdown",
   "metadata": {},
   "source": [
    "---"
   ]
  },
  {
   "cell_type": "markdown",
   "metadata": {},
   "source": [
    "지하철 호선과 역당 시간을 저장한다. \n",
    "\n",
    "- function name : for_subway_timetable"
   ]
  },
  {
   "cell_type": "code",
   "execution_count": 3,
   "metadata": {},
   "outputs": [],
   "source": [
    "def for_subway_timetable():\n",
    "    url = \"http://subway.koreatriptips.com/subway-station.html\"\n",
    "\n",
    "    # chrome webdriver 이용\n",
    "    browser = webdriver.Chrome('/Users/sony/Downloads/chromedriver_win32/chromedriver')\n",
    "    browser.get(url)\n",
    "    time.sleep(1)\n",
    "\n",
    "    html = browser.page_source\n",
    "    dom = BeautifulSoup(html, \"lxml\")\n",
    "    for_line = dom.select(\"ul.list-unstyled > li > a\") # line links 받음\n",
    "\n",
    "    conn = engine.connect()\n",
    "\n",
    "    for i in range(12):\n",
    "        for_timetable = {}  # line/station/hour/minute\n",
    "        for_timetable['line'] = for_line[i].text # line 이름 저장\n",
    "        href = \"ul.list-unstyled > li:nth-child(\" + str(i+1) + \") > a\"\n",
    "        browser.find_element_by_css_selector(href).click()\n",
    "\n",
    "        html = browser.page_source\n",
    "        dom = BeautifulSoup(html, \"lxml\")\n",
    "        for_station = dom.select(\"ul.list-unstyled > li > a\") # station links 받음\n",
    "\n",
    "        for j in range(len(for_station)-1): # 마지막 링크는 전 페이지로 돌아감\n",
    "            for_timetable['station'] = for_station[j].text # station 이름 저장\n",
    "            href = \"ul.list-unstyled > li:nth-child(\" + str(j+1) + \") > a\"\n",
    "            browser.find_element_by_css_selector(href).click()\n",
    "\n",
    "            html = browser.page_source\n",
    "            dom = BeautifulSoup(html, \"lxml\")\n",
    "            for for_direction in range(2):\n",
    "                if for_direction == 0:\n",
    "                    for_time = dom.select(\"section.content > div:nth-of-type(3) > div.box-body tbody td\")\n",
    "                    for_timetable['direction'] = 'U' # direction 저장\n",
    "                else:\n",
    "                    for_time = dom.select(\"section.content > div:nth-of-type(5) > div.box-body tbody td\")\n",
    "                    for_timetable['direction'] = 'D' # direction 저장\n",
    "\n",
    "                for k in range(0, len(for_time), 2):\n",
    "                    for_timetable['hour'] = int(for_time[k].text) # hour 저장\n",
    "                    minute = for_time[k+1].text.split(',')\n",
    "                    for l in range(len(minute)):\n",
    "                        for_timetable['minute'] = int(minute[l]) # minute 저장\n",
    "                        conn.execute(subway_timetable.insert(), for_timetable) # DB에 저장\n",
    "                        print(for_timetable)\n",
    "            browser.back()\n",
    "        browser.back()    "
   ]
  },
  {
   "cell_type": "markdown",
   "metadata": {},
   "source": [
    "subway_timetable.db 정의"
   ]
  },
  {
   "cell_type": "code",
   "execution_count": 4,
   "metadata": {},
   "outputs": [
    {
     "name": "stdout",
     "output_type": "stream",
     "text": [
      "2018-08-15 23:17:02,104 INFO sqlalchemy.engine.base.Engine SELECT CAST('test plain returns' AS VARCHAR(60)) AS anon_1\n",
      "2018-08-15 23:17:02,114 INFO sqlalchemy.engine.base.Engine ()\n",
      "2018-08-15 23:17:02,116 INFO sqlalchemy.engine.base.Engine SELECT CAST('test unicode returns' AS VARCHAR(60)) AS anon_1\n",
      "2018-08-15 23:17:02,117 INFO sqlalchemy.engine.base.Engine ()\n",
      "2018-08-15 23:17:02,119 INFO sqlalchemy.engine.base.Engine PRAGMA table_info(\"subway_timetable\")\n",
      "2018-08-15 23:17:02,120 INFO sqlalchemy.engine.base.Engine ()\n",
      "2018-08-15 23:17:02,124 INFO sqlalchemy.engine.base.Engine \n",
      "CREATE TABLE subway_timetable (\n",
      "\tid INTEGER NOT NULL, \n",
      "\tline VARCHAR NOT NULL, \n",
      "\tstation VARCHAR NOT NULL, \n",
      "\tdirection VARCHAR NOT NULL, \n",
      "\thour INTEGER, \n",
      "\tminute INTEGER, \n",
      "\tPRIMARY KEY (id)\n",
      ")\n",
      "\n",
      "\n",
      "2018-08-15 23:17:02,125 INFO sqlalchemy.engine.base.Engine ()\n",
      "2018-08-15 23:17:02,170 INFO sqlalchemy.engine.base.Engine COMMIT\n"
     ]
    }
   ],
   "source": [
    "engine = create_engine(\"sqlite:///subway_timetable.db\", echo = True)\n",
    "metadata = MetaData()\n",
    "\n",
    "subway_timetable = Table('subway_timetable', metadata,\n",
    "                        Column('id', Integer, primary_key =True),\n",
    "                        Column('line', String, nullable = False),\n",
    "                        Column('station', String, nullable = False),\n",
    "                        Column('direction', String, nullable = False),\n",
    "                        Column('hour', Integer),\n",
    "                        Column('minute', Integer)\n",
    "                    )\n",
    "\n",
    "metadata.create_all(engine)"
   ]
  },
  {
   "cell_type": "code",
   "execution_count": null,
   "metadata": {},
   "outputs": [],
   "source": [
    "for_subway_timetable()"
   ]
  }
 ],
 "metadata": {
  "kernelspec": {
   "display_name": "Python 3",
   "language": "python",
   "name": "python3"
  },
  "language_info": {
   "codemirror_mode": {
    "name": "ipython",
    "version": 3
   },
   "file_extension": ".py",
   "mimetype": "text/x-python",
   "name": "python",
   "nbconvert_exporter": "python",
   "pygments_lexer": "ipython3",
   "version": "3.6.5"
  }
 },
 "nbformat": 4,
 "nbformat_minor": 2
}
