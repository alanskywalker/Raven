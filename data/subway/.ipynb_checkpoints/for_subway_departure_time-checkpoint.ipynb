{
 "cells": [
  {
   "cell_type": "markdown",
   "metadata": {},
   "source": [
    "- 입력 : line, current_station, next_station, arriving_time, exit\n",
    "- 출력 : 가장 빠른 지하철 시간"
   ]
  },
  {
   "cell_type": "code",
   "execution_count": 14,
   "metadata": {},
   "outputs": [],
   "source": [
    "import pandas as pd"
   ]
  },
  {
   "cell_type": "code",
   "execution_count": 15,
   "metadata": {},
   "outputs": [],
   "source": [
    "import sqlite3\n",
    "import sqlalchemy\n",
    "from sqlalchemy import create_engine"
   ]
  },
  {
   "cell_type": "code",
   "execution_count": 16,
   "metadata": {},
   "outputs": [],
   "source": [
    "con1 = sqlite3.connect('subway_timetable.db')\n",
    "con2 = sqlite3.connect('subway_inner_path.db') "
   ]
  },
  {
   "cell_type": "code",
   "execution_count": 17,
   "metadata": {},
   "outputs": [],
   "source": [
    "df1 = pd.read_sql_query(\"SELECT * FROM subway_timetable\", con1)\n",
    "df2 = pd.read_sql_query(\"SELECT * FROM subway_inner_path\", con2)"
   ]
  },
  {
   "cell_type": "code",
   "execution_count": 111,
   "metadata": {},
   "outputs": [],
   "source": [
    "def subway_departure_time(line, current_station, next_station, for_hour, for_minute, exit):\n",
    "    # line과 current_station에 승강기 이용 가능한지 탐색\n",
    "    ele = 0\n",
    "    if (line in df2.line.unique()) and (current_station in df2.station.unique()):\n",
    "        for i in df2[df2.line==line][df2.station == current_station].inner_path:\n",
    "            if exit in i:\n",
    "                ele = 1\n",
    "                break\n",
    "                \n",
    "        # 만약 해당 출구에 승강기가 없는 경우, 승강기가 있는 출구로 반환\n",
    "        if ele == 0:\n",
    "            for_exit = i[-5:]\n",
    "        \n",
    "        # 승강장에 도착한 시간 = 도착시간 + 이동시간       \n",
    "        for_time = for_minute \\\n",
    "                   + int(df2[df2.line==line][df2.station == current_station][df2.inner_path == i].time)\n",
    "        \n",
    "        _hour = int(for_time/60) + for_hour\n",
    "        _minute = for_time % 60\n",
    "        \n",
    "        # 승강장에 도착한 시간에서 가장 빨리오는 지하철 시간 반환\n",
    "        temp = df1[df1.line == line][df1.station == current_station][df1.next_station == next_station]\n",
    "        hour_list = list(temp.iloc[:, 7])\n",
    "        minute_list = list(temp.iloc[:, 8])\n",
    "        \n",
    "        for k in range(len(hour_list)):\n",
    "            if hour_list[k] >= _hour:\n",
    "                if minute_list[k] >= _minute:\n",
    "                    break\n",
    "        return for_exit, str(hour_list[k]) + \"시 \" + str(minute_list[k]) + \"분\"\n",
    "    else:\n",
    "        return False"
   ]
  },
  {
   "cell_type": "code",
   "execution_count": 112,
   "metadata": {},
   "outputs": [
    {
     "name": "stderr",
     "output_type": "stream",
     "text": [
      "C:\\Users\\sony\\Anaconda3\\lib\\site-packages\\ipykernel_launcher.py:5: UserWarning: Boolean Series key will be reindexed to match DataFrame index.\n",
      "  \"\"\"\n",
      "C:\\Users\\sony\\Anaconda3\\lib\\site-packages\\ipykernel_launcher.py:15: UserWarning: Boolean Series key will be reindexed to match DataFrame index.\n",
      "  from ipykernel import kernelapp as app\n",
      "C:\\Users\\sony\\Anaconda3\\lib\\site-packages\\ipykernel_launcher.py:21: UserWarning: Boolean Series key will be reindexed to match DataFrame index.\n"
     ]
    },
    {
     "data": {
      "text/plain": [
       "('4번 출구', '6시 40분')"
      ]
     },
     "execution_count": 112,
     "metadata": {},
     "output_type": "execute_result"
    }
   ],
   "source": [
    "subway_departure_time('6호선', '상수', '광흥창', 6, 15, '2번 출구')"
   ]
  },
  {
   "cell_type": "markdown",
   "metadata": {},
   "source": [
    "---"
   ]
  }
 ],
 "metadata": {
  "kernelspec": {
   "display_name": "Python 3",
   "language": "python",
   "name": "python3"
  },
  "language_info": {
   "codemirror_mode": {
    "name": "ipython",
    "version": 3
   },
   "file_extension": ".py",
   "mimetype": "text/x-python",
   "name": "python",
   "nbconvert_exporter": "python",
   "pygments_lexer": "ipython3",
   "version": "3.6.5"
  }
 },
 "nbformat": 4,
 "nbformat_minor": 2
}
