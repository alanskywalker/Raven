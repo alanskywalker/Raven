{
 "cells": [
  {
   "cell_type": "code",
   "execution_count": 1,
   "metadata": {},
   "outputs": [],
   "source": [
    "from urllib import request\n",
    "from urllib import parse\n",
    "import json"
   ]
  },
  {
   "cell_type": "code",
   "execution_count": 2,
   "metadata": {},
   "outputs": [
    {
     "data": {
      "text/plain": [
       "<sqlite3.Cursor at 0x24c23db6650>"
      ]
     },
     "execution_count": 2,
     "metadata": {},
     "output_type": "execute_result"
    }
   ],
   "source": [
    "import sqlite3\n",
    "\n",
    "conn = sqlite3.connect('../db/BusStation2.db')\n",
    "cur = conn.cursor()\n",
    "cur.execute(\"SELECT DISTINCT(busID) FROM BusStation2\")"
   ]
  },
  {
   "cell_type": "code",
   "execution_count": 3,
   "metadata": {},
   "outputs": [],
   "source": [
    "low_bus = []\n",
    "\n",
    "for lb in cur.fetchall():\n",
    "    low_bus.append(int(lb[0]))"
   ]
  },
  {
   "cell_type": "code",
   "execution_count": 4,
   "metadata": {},
   "outputs": [
    {
     "ename": "OperationalError",
     "evalue": "near \"FROM\": syntax error",
     "output_type": "error",
     "traceback": [
      "\u001b[1;31m---------------------------------------------------------------------------\u001b[0m",
      "\u001b[1;31mOperationalError\u001b[0m                          Traceback (most recent call last)",
      "\u001b[1;32m<ipython-input-4-d986bc5dd69c>\u001b[0m in \u001b[0;36m<module>\u001b[1;34m()\u001b[0m\n\u001b[0;32m      1\u001b[0m \u001b[0mconn2\u001b[0m \u001b[1;33m=\u001b[0m \u001b[0msqlite3\u001b[0m\u001b[1;33m.\u001b[0m\u001b[0mconnect\u001b[0m\u001b[1;33m(\u001b[0m\u001b[1;34m'../db/elevator.db'\u001b[0m\u001b[1;33m)\u001b[0m\u001b[1;33m\u001b[0m\u001b[0m\n\u001b[0;32m      2\u001b[0m \u001b[0mcur2\u001b[0m \u001b[1;33m=\u001b[0m \u001b[0mconn2\u001b[0m\u001b[1;33m.\u001b[0m\u001b[0mcursor\u001b[0m\u001b[1;33m(\u001b[0m\u001b[1;33m)\u001b[0m\u001b[1;33m\u001b[0m\u001b[0m\n\u001b[1;32m----> 3\u001b[1;33m \u001b[0mcur2\u001b[0m\u001b[1;33m.\u001b[0m\u001b[0mexecute\u001b[0m\u001b[1;33m(\u001b[0m\u001b[1;34m\"SELECT ~~ FROM ~~\"\u001b[0m\u001b[1;33m)\u001b[0m\u001b[1;33m\u001b[0m\u001b[0m\n\u001b[0m",
      "\u001b[1;31mOperationalError\u001b[0m: near \"FROM\": syntax error"
     ]
    }
   ],
   "source": [
    "conn2 = sqlite3.connect('../db/elevator.db')\n",
    "cur2 = conn2.cursor()\n",
    "cur2.execute(\"SELECT ~~ FROM ~~\")"
   ]
  },
  {
   "cell_type": "code",
   "execution_count": 5,
   "metadata": {},
   "outputs": [],
   "source": [
    "def fullroute(sx, sy, ex, ey):   #이용자가 입력한 출발, 목적지\n",
    "    url = \"https://api.odsay.com/v1/api/searchPubTransPath\"\n",
    "    params = {\n",
    "    'SX' : sx,\n",
    "    'SY':  sy,\n",
    "    'EX' : ex,\n",
    "    'EY' : ey,\n",
    "    'OPT' :2,\n",
    "    'apiKey' : \"ttfS2WdLF4rG/hfj+d20/Lcxp6TIyVHnnW/IgBBHh60\"\n",
    "    }\n",
    "    \n",
    "    paramUrl = parse.urlencode(params)\n",
    "    paramBytes = paramUrl.encode(\"utf-8\")\n",
    "\n",
    "    req = request.Request(url, data=paramBytes)\n",
    "    request.get_method = lambda: 'GET'\n",
    "    res = request.urlopen(req)\n",
    "    result = res.read().decode(\"utf-8\") \n",
    "    resultObj = json.loads(result)\n",
    "    \n",
    "    #경로가 존재\n",
    "    try:  \n",
    "        pathList = resultObj['result']['path']\n",
    "        \n",
    "        #보행약자 전용 경로로 수정\n",
    "        better_path = []\n",
    "#         low_bus = [1244]   #lowbus List\n",
    "\n",
    "        for path in pathList:\n",
    "            for sub in path['subPath']:\n",
    "                better = True\n",
    "\n",
    "                if sub['trafficType']==1:  #지하철\n",
    "                    print(sub['startName'])\n",
    "                    if 'startExitNo' in sub.keys():\n",
    "                        print(sub['startExitNo']+\"번출구\", sub['startExitX'], sub['startExitY'])\n",
    "                        #승강기 DB와 비교해서 해당 출구에 승강기가 없으면(or 사용불가능) 다른 출구로 update\n",
    "                        #승강기와 연결된 출구가 없다면 better=False, break\n",
    "                    print(sub['endName'])\n",
    "                    if 'endExitNo' in sub.keys():\n",
    "                        print(sub['endExitNo']+\"번출구\")\n",
    "                        #승강기 DB와 비교해서 해당 출구에 승강기가 없으면 다른 출구로 update\n",
    "                        #승강기와 연결된 출구가 없다면 better=False, break\n",
    "                    print()\n",
    "\n",
    "                elif sub['trafficType'] ==2:  #버스\n",
    "                    temp_lane = []\n",
    "                    for l in sub['lane']:\n",
    "                        if l['busID'] in low_bus:\n",
    "                            print(l['busID'])\n",
    "                            temp_lane.append(l)\n",
    "                    #sub['lane'] = temp_lane\n",
    "                    if not temp_lane:\n",
    "                        better = False\n",
    "                        break\n",
    "\n",
    "            if better:\n",
    "                better_path.append(path)\n",
    "        \n",
    "        return [better_path, (sx, sy, ex, ey)]\n",
    "    \n",
    "    except:\n",
    "        if resultObj['error'][0]['code']==-98:\n",
    "            print(\"출, 도착지가 700m이내입니다.\")\n",
    "            return (sx, sy, ex, ey)\n",
    "        else:\n",
    "            print(resultObj['error'])"
   ]
  },
  {
   "cell_type": "code",
   "execution_count": 34,
   "metadata": {},
   "outputs": [],
   "source": [
    "from bs4 import BeautifulSoup\n",
    "\n",
    "class Pedestrian:\n",
    "    #TMap API 호출 결과 반환\n",
    "    def __init__(self, sx, sy, ex, ey):\n",
    "        self.pos= [sx, sy, ex, ey]\n",
    "        \n",
    "        tmapURL = \"https://api2.sktelecom.com/tmap/routes/pedestrian?version=1&format=xml\"\n",
    "        data = {\n",
    "            'searchOption': 30,\n",
    "            'startX' :sx ,\n",
    "            'startY' :  sy, \n",
    "            'endX' : ex,\n",
    "            'endY' :  ey,\n",
    "            'reqCoordType' : \"WGS84GEO\",\n",
    "            'resCoordType' : \"EPSG3857\",\n",
    "            'angle' : \"172\",\n",
    "            'startName': \"출발지\",\n",
    "            'endName': \"도착지\",\n",
    "        }\n",
    "\n",
    "        paramUrl = parse.urlencode(data)\n",
    "        paramBytes = paramUrl.encode(\"utf-8\")\n",
    "\n",
    "        self.req = request.Request(tmapURL, data=paramBytes, headers={'appKey':\"b9e1fdd0-0495-4f88-8b28-3e1ae2e84b19\", 'User-Agent': 'Mozilla/5.0 (Windows NT 10.0; Win64; x64) AppleWebKit/537.36 (KHTML, like Gecko) Chrome/68.0.3440.106 Safari/537.36'})\n",
    "        request.get_method = lambda: 'GET'\n",
    "        res = request.urlopen(self.req)\n",
    "        self.result = res.read().decode(\"utf-8\") \n",
    "        self.xml = BeautifulSoup(self.result, \"html.parser\")\n",
    "        try:\n",
    "            self.totaltime =  int(self.xml.find(\"tmap:totaltime\").text)//60+1\n",
    "            self.totaldistance = int(self.xml.find(\"tmap:totaldistance\").text)\n",
    "        except:\n",
    "            print(self.xml.find(\"message\"))\n",
    "        \n",
    "    "
   ]
  },
  {
   "cell_type": "code",
   "execution_count": 7,
   "metadata": {},
   "outputs": [],
   "source": [
    "class Subway:\n",
    "    def __init__(self, on, way, code, num, off, tm, desc):\n",
    "        self.start = on\n",
    "        self.way = way\n",
    "        self.code = code\n",
    "        self.num_station = num\n",
    "        self.end = off\n",
    "        self.sectionTm = tm\n",
    "        self.desc = desc\n",
    "    "
   ]
  },
  {
   "cell_type": "code",
   "execution_count": 8,
   "metadata": {},
   "outputs": [],
   "source": [
    "class Bus:\n",
    "    def __init__(self, on, code, num, off, tm, desc):\n",
    "        self.start = on\n",
    "        self.code = code\n",
    "        self.num_station = num\n",
    "        self.end = off\n",
    "        self.sectionTm = tm\n",
    "        self.desc = desc"
   ]
  },
  {
   "cell_type": "code",
   "execution_count": 9,
   "metadata": {},
   "outputs": [],
   "source": [
    "def eachroute(better_path):\n",
    "    if type(better_path) == list:\n",
    "        XY = better_path[1]\n",
    "        better_path = better_path[0]\n",
    "\n",
    "        splitpath = []\n",
    "\n",
    "        for path in better_path:\n",
    "            onepath = {'totaltime': 0, 'score': 30, 'pathType': 0, 'trans': 0, 'desc': \"\", 'totalwalk': 0}\n",
    "\n",
    "            subPath = path['subPath']\n",
    "\n",
    "            idx = 0\n",
    "\n",
    "            for index in range(len(subPath)):\n",
    "                idx += 1\n",
    "\n",
    "                if subPath[index]['trafficType'] == 1:\n",
    "                    on = subPath[index]['startName']\n",
    "                    way = subPath[index]['way']\n",
    "                    code = subPath[index]['lane'][0]['subwayCode']\n",
    "                    num = subPath[index]['stationCount']\n",
    "                    off = subPath[index]['endName']\n",
    "                    tm = subPath[index]['sectionTime']\n",
    "                    desc = \"{}역에서 {}방향 {}호선 승차, {}정거장 후 {}역에서 하차 - 약 {}분 이동\".format(on, way, code, num, off, tm)\n",
    "                    onepath['desc'] += \"{}역에서 {}호선 승차.  \".format(on, code)\n",
    "                    onepath[idx] = Subway(on, way, code, num, off, tm, desc)\n",
    "                    onepath['totaltime'] += tm\n",
    "                    onepath['pathType'] = 1 if onepath['pathType'] in [0, 1] else 3\n",
    "\n",
    "                elif subPath[index]['trafficType'] == 2:\n",
    "                    on = subPath[index]['startName']\n",
    "                    code = \"\"\n",
    "                    for i in range(len(subPath[index]['lane'])):\n",
    "                        if i == (len(subPath[index]['lane']) - 1):\n",
    "                            code += str(subPath[index]['lane'][i]['busNo'])\n",
    "                        else:\n",
    "                            code += str(subPath[index]['lane'][i]['busNo']) + \", \"\n",
    "                    num = subPath[index]['stationCount']\n",
    "                    off = subPath[index]['endName']\n",
    "                    tm = subPath[index]['sectionTime']\n",
    "                    desc = \"<{}>에서 {}번 버스 승차, {}정거장 후 <{}>에서 하차 - 약 {}분 이동\".format(on, code, num, off, tm)\n",
    "                    onepath['desc'] += \"<{}>에서 {}번 버스 승차.  \".format(on, code)\n",
    "                    onepath[idx] = Bus(on, code, num, off, tm, desc)\n",
    "                    onepath['totaltime'] += tm\n",
    "                    onepath['pathType'] = 2 if onepath['pathType'] in [0, 2] else 3\n",
    "\n",
    "                elif subPath[index]['trafficType'] == 3:\n",
    "                    if index == 0:\n",
    "                        # TMap에서 출발지부터 최초 정류장or지하철역 출구까지의 보행 경로 안내\n",
    "                        if subPath[1]['trafficType'] == 1:\n",
    "                            startX = subPath[1]['startExitX']\n",
    "                            startY = subPath[1]['startExitY']\n",
    "                        elif subPath[1]['trafficType'] == 2:\n",
    "                            startX = subPath[1]['startX']\n",
    "                            startY = subPath[1]['startY']\n",
    "                        onepath[idx] = Pedestrian(XY[0], XY[1], startX, startY)\n",
    "                        onepath['totaltime'] += onepath[idx].totaltime\n",
    "                        onepath['totalwalk'] += onepath[idx].totaltime\n",
    "\n",
    "                    elif index == len(subPath) - 1:\n",
    "                        # TMap에서 마지막 정류장 or 지하철역 출구부터의 도착지까지의 보행 경로 안내\n",
    "                        if subPath[index - 1]['trafficType'] == 1:\n",
    "                            endX = subPath[index - 1]['endExitX']\n",
    "                            endY = subPath[index - 1]['endExitY']\n",
    "                        elif subPath[index - 1]['trafficType'] == 2:\n",
    "                            endX = subPath[index - 1]['endX']\n",
    "                            endY = subPath[index - 1]['endY']\n",
    "                        onepath[idx] = Pedestrian(endX, endY, XY[2], XY[3])\n",
    "                        onepath['totaltime'] += onepath[idx].totaltime\n",
    "                        onepath['totalwalk'] += onepath[idx].totaltime\n",
    "\n",
    "                    else:\n",
    "                        #                         onepath['pass'] = []\n",
    "\n",
    "                        if subPath[index - 1]['trafficType'] == 1 and subPath[index + 1][\n",
    "                            'trafficType'] == 1:  # 지하철 - 지하철 환승\n",
    "                            station = subPath[index - 1]['endName']\n",
    "                            fromlane = subPath[index - 1]['lane'][0]['subwayCode']\n",
    "                            tolane = subPath[index + 1]['lane'][0]['subwayCode']\n",
    "                            # print(station+\"역의 \" +str(fromlane)+\"호선에서 \"+str(tolane)+\"호선으로 환승\")\n",
    "                            # 해당 지하철역의 from호선 -> to호선까지 환승시에 걸리는 시간만큼 subPath[index]['sectionTime'] 증가\n",
    "                            #                             onepath[idx] = \"{}역의 {}호선에서 {}호선으로 환승\".format(station, fromlane, tolane)\n",
    "                            sectionTm = subPath[index]['sectionTime'] + 0\n",
    "                            onepath[idx] = {'station': station, 'fromlane': fromlane, 'tolane': tolane,\n",
    "                                            'sectionTm': sectionTm}\n",
    "                            onepath['totaltime'] += sectionTm\n",
    "                            onepath['totalwalk'] += sectionTm\n",
    "\n",
    "\n",
    "\n",
    "\n",
    "                        elif subPath[index - 1]['trafficType'] == 2 and subPath[index + 1][\n",
    "                            'trafficType'] == 2:  # 버스 - 버스 환승\n",
    "                            startX = subPath[index - 1]['endX']\n",
    "                            startY = subPath[index - 1]['endY']\n",
    "                            endX = subPath[index + 1]['startX']\n",
    "                            endY = subPath[index + 1]['startY']\n",
    "\n",
    "                            onepath[idx] = Pedestrian(startX, startY, endX, endY)\n",
    "                            onepath['totaltime'] += onepath[idx].totaltime\n",
    "                            onepath['totalwalk'] += onepath[idx].totaltime\n",
    "\n",
    "                        elif subPath[index - 1]['trafficType'] == 1 and subPath[index + 1][\n",
    "                            'trafficType'] == 2:  # 지하철 - 버스 환승\n",
    "                            startX = subPath[index - 1]['endExitX']\n",
    "                            startY = subPath[index - 1]['endExitY']\n",
    "                            endX = subPath[index + 1]['startX']\n",
    "                            endY = subPath[index + 1]['startY']\n",
    "                            onepath[idx] = Pedestrian(startX, startY, endX, endY)\n",
    "                            onepath['totaltime'] += onepath[idx].totaltime\n",
    "                            onepath['totalwalk'] += onepath[idx].totaltime\n",
    "\n",
    "                        elif subPath[index - 1]['trafficType'] == 1 and subPath[index + 1][\n",
    "                            'trafficType'] == 2:  # 버스 - 지하철 환승\n",
    "                            startX = subPath[index - 1]['endX']\n",
    "                            startY = subPath[index - 1]['endY']\n",
    "                            endX = subPath[index + 1]['startExitX']\n",
    "                            endY = subPath[index + 1]['startExitY']\n",
    "                            onepath[idx] = Pedestrian(startX, startY, endX, endY)\n",
    "                            onepath['totaltime'] += onepath[idx].totaltime\n",
    "                            onepath['totalwalk'] += onepath[idx].totaltime\n",
    "\n",
    "                        onepath['score'] -= 5  # 환승시 편의 지수 하락\n",
    "                        onepath['trans'] += 1\n",
    "\n",
    "            splitpath.append(onepath)\n",
    "\n",
    "    elif type(better_path) == tuple:\n",
    "        splitpath = [Pedestrian(*better_path)]\n",
    "\n",
    "    return splitpath\n"
   ]
  },
  {
   "cell_type": "code",
   "execution_count": 19,
   "metadata": {},
   "outputs": [
    {
     "data": {
      "text/plain": [
       "(126.9027279, 37.5349277, 126.922725, 37.547914)"
      ]
     },
     "execution_count": 19,
     "metadata": {},
     "output_type": "execute_result"
    }
   ],
   "source": [
    "full[1]"
   ]
  },
  {
   "cell_type": "code",
   "execution_count": 37,
   "metadata": {},
   "outputs": [
    {
     "name": "stdout",
     "output_type": "stream",
     "text": [
      "당산\n",
      "4번출구 126.903165671079 37.5351929282617\n",
      "합정\n",
      "\n",
      "합정\n",
      "상수\n",
      "1번출구\n",
      "\n",
      "당산\n",
      "4번출구 126.903165671079 37.5351929282617\n",
      "합정\n",
      "7번출구\n",
      "\n",
      "1244\n",
      "1812\n",
      "1197\n",
      "1228\n",
      "합정\n",
      "8번출구 126.912857037513 37.5493662587383\n",
      "상수\n",
      "1번출구\n",
      "\n",
      "1166\n",
      "합정\n",
      "8번출구 126.912857037513 37.5493662587383\n",
      "상수\n",
      "1번출구\n",
      "\n",
      "당산\n",
      "4번출구 126.903165671079 37.5351929282617\n",
      "합정\n",
      "4번출구\n",
      "\n",
      "989\n",
      "당산\n",
      "4번출구 126.903165671079 37.5351929282617\n",
      "합정\n",
      "8번출구\n",
      "\n",
      "1166\n",
      "1168\n",
      "618\n",
      "618\n",
      "1168\n",
      "1154\n",
      "1279\n"
     ]
    }
   ],
   "source": [
    "full = fullroute(126.9027279,37.5349277,126.922725,37.547914)"
   ]
  },
  {
   "cell_type": "code",
   "execution_count": 41,
   "metadata": {},
   "outputs": [
    {
     "data": {
      "text/plain": [
       "5"
      ]
     },
     "execution_count": 41,
     "metadata": {},
     "output_type": "execute_result"
    }
   ],
   "source": [
    "len(full[0])"
   ]
  },
  {
   "cell_type": "code",
   "execution_count": 42,
   "metadata": {
    "scrolled": false
   },
   "outputs": [],
   "source": [
    "if len(full[0]) > 7:\n",
    "    full[0] = full[0][:7]\n",
    "pathList = eachroute(full)"
   ]
  },
  {
   "cell_type": "code",
   "execution_count": 45,
   "metadata": {},
   "outputs": [
    {
     "data": {
      "text/plain": [
       "{'totaltime': 21,\n",
       " 'score': 25,\n",
       " 'pathType': 3,\n",
       " 'trans': 1,\n",
       " 'desc': '당산역에서 2호선 승차.  <합정역>에서 7011, 7013A, 7013B번 버스 승차.  ',\n",
       " 'totalwalk': 5,\n",
       " 1: <__main__.Pedestrian at 0x24c25705ba8>,\n",
       " 2: <__main__.Subway at 0x24c256ea278>,\n",
       " 3: <__main__.Pedestrian at 0x24c256ea358>,\n",
       " 4: <__main__.Bus at 0x24c25746470>,\n",
       " 5: <__main__.Pedestrian at 0x24c25746160>}"
      ]
     },
     "execution_count": 45,
     "metadata": {},
     "output_type": "execute_result"
    }
   ],
   "source": [
    "pathList[1]"
   ]
  },
  {
   "cell_type": "code",
   "execution_count": 70,
   "metadata": {},
   "outputs": [
    {
     "data": {
      "text/plain": [
       "4.916666666666667"
      ]
     },
     "execution_count": 70,
     "metadata": {},
     "output_type": "execute_result"
    }
   ],
   "source": [
    "pathList[6][1].totaltime"
   ]
  },
  {
   "cell_type": "code",
   "execution_count": 66,
   "metadata": {
    "scrolled": true
   },
   "outputs": [
    {
     "data": {
      "text/plain": [
       "(126.9027279, 37.5349277, 126.9008027, 37.5346106)"
      ]
     },
     "execution_count": 66,
     "metadata": {},
     "output_type": "execute_result"
    }
   ],
   "source": [
    "pathList[6][1].pos[0], pathList[6][1].pos[1],pathList[6][1].pos[2],pathList[6][1].pos[3]"
   ]
  },
  {
   "cell_type": "code",
   "execution_count": 94,
   "metadata": {
    "scrolled": true
   },
   "outputs": [
    {
     "data": {
      "text/plain": [
       "[{'totaltime': 17,\n",
       "  'score': 25,\n",
       "  'pathType': 1,\n",
       "  'trans': 1,\n",
       "  'desc': '당산역에서 2호선 승차.&nbsp합정역에서 6호선 승차.&nbsp',\n",
       "  'totalwalk': 0,\n",
       "  1: <__main__.Pedestrian at 0x23f0e7dc9b0>,\n",
       "  2: <__main__.Subway at 0x23f0dc94240>,\n",
       "  3: {'station': '합정', 'fromlane': 2, 'tolane': 6, 'sectionTm': 0},\n",
       "  4: <__main__.Subway at 0x23f0dc943c8>,\n",
       "  5: <__main__.Pedestrian at 0x23f0dc949e8>},\n",
       " {'totaltime': 18,\n",
       "  'score': 25,\n",
       "  'pathType': 3,\n",
       "  'trans': 1,\n",
       "  'desc': '당산역에서 2호선 승차.&nbsp<합정역>에서 7011, 7013A, 7013B번 버스 승차. &nbsp',\n",
       "  'totalwalk': 2,\n",
       "  1: <__main__.Pedestrian at 0x23f0e7ea940>,\n",
       "  2: <__main__.Subway at 0x23f0e7f8dd8>,\n",
       "  3: <__main__.Pedestrian at 0x23f0e7f8f28>,\n",
       "  4: <__main__.Bus at 0x23f0e81b3c8>,\n",
       "  5: <__main__.Pedestrian at 0x23f0e81b1d0>},\n",
       " {'totaltime': 31,\n",
       "  'score': 25,\n",
       "  'pathType': 3,\n",
       "  'trans': 1,\n",
       "  'desc': '<양화대교전망카페>에서 5712, 6716, 6712번 버스 승차. &nbsp합정역에서 6호선 승차.&nbsp',\n",
       "  'totalwalk': 15,\n",
       "  1: <__main__.Pedestrian at 0x23f0e827908>,\n",
       "  2: <__main__.Bus at 0x23f0e84b6a0>,\n",
       "  4: <__main__.Subway at 0x23f0e84b4a8>,\n",
       "  5: <__main__.Pedestrian at 0x23f0e84b7f0>},\n",
       " {'totaltime': 31,\n",
       "  'score': 25,\n",
       "  'pathType': 3,\n",
       "  'trans': 1,\n",
       "  'desc': '<양화대교전망카페>에서 602, 604번 버스 승차. &nbsp합정역에서 6호선 승차.&nbsp',\n",
       "  'totalwalk': 15,\n",
       "  1: <__main__.Pedestrian at 0x23f0e8cb2e8>,\n",
       "  2: <__main__.Bus at 0x23f0e8d5780>,\n",
       "  4: <__main__.Subway at 0x23f0e8d5978>,\n",
       "  5: <__main__.Pedestrian at 0x23f0e8d5ac8>},\n",
       " {'totaltime': 27,\n",
       "  'score': 25,\n",
       "  'pathType': 3,\n",
       "  'trans': 1,\n",
       "  'desc': '당산역에서 2호선 승차.&nbsp<합정역>에서 271번 버스 승차. &nbsp',\n",
       "  'totalwalk': 12,\n",
       "  1: <__main__.Pedestrian at 0x23f0e95a5c0>,\n",
       "  2: <__main__.Subway at 0x23f0e969a58>,\n",
       "  3: <__main__.Pedestrian at 0x23f0e969c50>,\n",
       "  4: <__main__.Bus at 0x23f0e97ae10>,\n",
       "  5: <__main__.Pedestrian at 0x23f0e97af98>},\n",
       " {'totaltime': 30,\n",
       "  'score': 25,\n",
       "  'pathType': 3,\n",
       "  'trans': 1,\n",
       "  'desc': '당산역에서 2호선 승차.&nbsp<합정역>에서 602, 603, 604, 761번 버스 승차. &nbsp',\n",
       "  'totalwalk': 14,\n",
       "  1: <__main__.Pedestrian at 0x23f0e99c240>,\n",
       "  2: <__main__.Subway at 0x23f0ea1e550>,\n",
       "  3: <__main__.Pedestrian at 0x23f0ea1e748>,\n",
       "  4: <__main__.Bus at 0x23f0ea2ab00>,\n",
       "  5: <__main__.Pedestrian at 0x23f0ea2a908>},\n",
       " {'totaltime': 28,\n",
       "  'score': 30,\n",
       "  'pathType': 2,\n",
       "  'trans': 0,\n",
       "  'desc': '<당산역>에서 761번 버스 승차. &nbsp',\n",
       "  'totalwalk': 16,\n",
       "  1: <__main__.Pedestrian at 0x23f0ea63cf8>,\n",
       "  2: <__main__.Bus at 0x23f0eae5f60>,\n",
       "  3: <__main__.Pedestrian at 0x23f0eaf7240>},\n",
       " {'totaltime': 28,\n",
       "  'score': 30,\n",
       "  'pathType': 2,\n",
       "  'trans': 0,\n",
       "  'desc': '<당산역>에서 603번 버스 승차. &nbsp',\n",
       "  'totalwalk': 16,\n",
       "  1: <__main__.Pedestrian at 0x23f0eb417f0>,\n",
       "  2: <__main__.Bus at 0x23f0ebc2b00>,\n",
       "  3: <__main__.Pedestrian at 0x23f0ebc2cf8>},\n",
       " {'totaltime': 28,\n",
       "  'score': 30,\n",
       "  'pathType': 2,\n",
       "  'trans': 0,\n",
       "  'desc': '<당산역>에서 5714번 버스 승차. &nbsp',\n",
       "  'totalwalk': 16,\n",
       "  1: <__main__.Pedestrian at 0x23f0ec1e2e8>,\n",
       "  2: <__main__.Bus at 0x23f0eca15f8>,\n",
       "  3: <__main__.Pedestrian at 0x23f0eca17f0>},\n",
       " {'totaltime': 36,\n",
       "  'score': 30,\n",
       "  'pathType': 2,\n",
       "  'trans': 0,\n",
       "  'desc': '<선유고등학교>에서 7612번 버스 승차. &nbsp',\n",
       "  'totalwalk': 24,\n",
       "  1: <__main__.Pedestrian at 0x23f0ece6da0>,\n",
       "  2: <__main__.Bus at 0x23f0ed6acc0>,\n",
       "  3: <__main__.Pedestrian at 0x23f0ed6acf8>}]"
      ]
     },
     "execution_count": 94,
     "metadata": {},
     "output_type": "execute_result"
    }
   ],
   "source": [
    "pathList"
   ]
  },
  {
   "cell_type": "code",
   "execution_count": 77,
   "metadata": {},
   "outputs": [],
   "source": [
    "p = pathList[0]"
   ]
  },
  {
   "cell_type": "code",
   "execution_count": 87,
   "metadata": {},
   "outputs": [
    {
     "name": "stdout",
     "output_type": "stream",
     "text": [
      "17\n",
      "25\n",
      "1\n",
      "1\n",
      "당산역에서 2호선 승차.&nbsp합정역에서 6호선 승차.&nbsp\n",
      "0\n",
      "<__main__.Pedestrian object at 0x0000023F0E7DC9B0>\n",
      "<__main__.Subway object at 0x0000023F0DC94240>\n",
      "{'station': '합정', 'fromlane': 2, 'tolane': 6, 'sectionTm': 0}\n",
      "<__main__.Subway object at 0x0000023F0DC943C8>\n",
      "<__main__.Pedestrian object at 0x0000023F0DC949E8>\n"
     ]
    }
   ],
   "source": [
    "for i in p:\n",
    "    print(p[i])"
   ]
  },
  {
   "cell_type": "markdown",
   "metadata": {},
   "source": [
    "## 웹 구성\n",
    "#### 메인화면\n",
    "- 출발지, 목적지, 도착시간 입력, 화면상에 지도 출력\n",
    "\n",
    "#### 경로결과화면\n",
    "- 모든 경로와 각 경로의 통합 정보(총 소요시간, 환승횟수, 이동편의지수 등)를 추천/지하철만/버스만/버스+지하철 에 따라 리스트로 출력\n",
    "\n",
    "#### 세부경로화면\n",
    "- 선택한 경로의 세부 경로들의 리스트를 세부 경로 타입에 맞게 출력(도보or지하철or버스)"
   ]
  },
  {
   "cell_type": "markdown",
   "metadata": {},
   "source": [
    "### flask routing"
   ]
  },
  {
   "cell_type": "code",
   "execution_count": null,
   "metadata": {},
   "outputs": [],
   "source": [
    "@app.route('/fullpath')\n",
    "def fullpath(stX, stY, eX, eY, departTm):\n",
    "    #이용자가 입력하는 출발, 목적지 좌표 및 시간\n",
    "    \n",
    "    pathList= eachroute(fullroute(stX, stY, eX, eY))  #subPath + 메타데이터를 dict으로 담고있는 경로들의 list\n",
    "    #각 경로마다의 subPath를 객체로 저장 -> Pedestrian() , Subway(), Bus()\n",
    "    #웹 구현 시 각 subPath의 객체타입에 따라 보여지는 형식이 다름\n",
    "        \n",
    "    \n",
    "    return render_template(\"fullpath.html\", pathList=pathList)  #모든 경로를 대중교통 타입에 따라 구분하여 화면에 보여주는 html\n",
    "\n",
    "#     pathList = [(126.9027279 , 37.5349277, 126.922725, 37.547914),(startX , startY, endX, endY)]\n",
    "#     return render_template('security/route.html', pathList=pathList)"
   ]
  },
  {
   "cell_type": "code",
   "execution_count": null,
   "metadata": {},
   "outputs": [],
   "source": [
    "@app.route('/subpath')\n",
    "def subpath(path):   #하나의 경로를 구성하는 subpath들을 보여줌\n",
    "    \n",
    "    return render_template(\"subpath.html\", path = path)  #subpath들의 대중교통 타입에 따라 다른 형식으로 화면에 보여주는 html"
   ]
  },
  {
   "cell_type": "code",
   "execution_count": 86,
   "metadata": {},
   "outputs": [
    {
     "name": "stdout",
     "output_type": "stream",
     "text": [
      "begin True end\n"
     ]
    }
   ],
   "source": [
    "#jinja에서 type 함수를 사용하기 위한 셋팅\n",
    "\n",
    "import jinja2\n",
    "\n",
    "env=jinja2.Environment()\n",
    "env.filters['type'] = type\n",
    "\n",
    "template =env.from_string(\"\"\"begin {{ note|type == t }} end\"\"\")\n",
    "# print(template.render(note=A(), t=A))\n",
    "print(template.render(note=1, t=int))\n"
   ]
  },
  {
   "cell_type": "code",
   "execution_count": null,
   "metadata": {},
   "outputs": [],
   "source": [
    "#임시 코드\n",
    "fullpath_html = \"\"\"\n",
    "<body>\n",
    "    {% for path in pathList %}\n",
    "        hassubway = false\n",
    "        hasbus = false\n",
    "        \n",
    "        {% if pathType ==1 %}]\n",
    "             <div class=\"subwayonly\">\n",
    "                    <p>경로의 총 소요시간, 환승횟수, 이동편의지수</p>\n",
    "                </div>\n",
    "        {%elif pathType==2 %}\n",
    "             ...\n",
    "        {%else%}\n",
    "            ...\n",
    "            \n",
    "        {%if score > 1 0%}\n",
    "            <div class=\"recommend\"> ... </div>\n",
    "        {% endif %}\n",
    "    {% endfor %}\n",
    "</body>\n",
    "\"\"\""
   ]
  },
  {
   "cell_type": "code",
   "execution_count": 2,
   "metadata": {},
   "outputs": [],
   "source": [
    "#임시 코드\n",
    "subpath_html = \"\"\"\n",
    "<body>\n",
    "    {% for subpath in path %}\n",
    "        {% if a.type == Subway or a.type==Bus%}\n",
    "            <p>탭 안에 지하철이나 버스 정보 text로 표현</p>\n",
    "        {% elif {% if a.type == Pedetrian %}\n",
    "            <script TMap>\n",
    "                initTmap({{ subpath.sx,  subpath.sy,  subpath.ex, subpath.ey}});\n",
    "            </script>\n",
    "            <div id=\"map_div\"></div>\n",
    "            <p id=\"result\" or \"route\"></p>\n",
    "        {% endif %}\n",
    "    {% endfor %}\n",
    "    \n",
    "</body>\"\"\""
   ]
  }
 ],
 "metadata": {
  "kernelspec": {
   "display_name": "Python 3",
   "language": "python",
   "name": "python3"
  },
  "language_info": {
   "codemirror_mode": {
    "name": "ipython",
    "version": 3
   },
   "file_extension": ".py",
   "mimetype": "text/x-python",
   "name": "python",
   "nbconvert_exporter": "python",
   "pygments_lexer": "ipython3",
   "version": "3.6.5"
  }
 },
 "nbformat": 4,
 "nbformat_minor": 2
}
