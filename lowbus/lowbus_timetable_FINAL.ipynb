{
 "cells": [
  {
   "cell_type": "markdown",
   "metadata": {},
   "source": [
    "저상버스의 시간표를 저장하는 DB"
   ]
  },
  {
   "cell_type": "code",
   "execution_count": 2,
   "metadata": {},
   "outputs": [],
   "source": [
    "import sqlalchemy\n",
    "from sqlalchemy import create_engine\n",
    "from sqlalchemy import MetaData\n",
    "from sqlalchemy import Table, Column, Integer, String\n",
    "from sqlalchemy.sql import select"
   ]
  },
  {
   "cell_type": "code",
   "execution_count": 3,
   "metadata": {},
   "outputs": [],
   "source": [
    "engine = create_engine(\"sqlite:///lowbus_timetable.db\", echo=False)\n",
    "metadata = MetaData()\n",
    "\n",
    "Timetable = Table('Timetable', metadata, \n",
    "              Column('_id', Integer, primary_key =True, autoincrement=True ),\n",
    "              Column('routeId', Integer, nullable = False),\n",
    "              Column('date', String(8), nullable = False), \n",
    "              Column('arrivalTm',String(6)),\n",
    "              Column('posX',String), \n",
    "              Column('posY',String))  \n",
    "\n",
    "metadata.create_all(engine) \n",
    "conn = engine.connect()"
   ]
  },
  {
   "cell_type": "markdown",
   "metadata": {},
   "source": [
    "버스위치api를 반복 호출하면서 현재 운행중인 저상버스가 정류소에 도착하는 시간을 DB에 저장\n",
    "- 호출했을 때의 위치정보 제공 시간이 이전 호출했을 때의 제공 시간과 다르면서 정류장에 도착해있을 때(stopflag=1) 저장\n",
    "- 여러 서비스키를 사용하여 하나의 키의 traffic을 모두 사용했을 때 다른 서비스 키 사용\n"
   ]
  },
  {
   "cell_type": "code",
   "execution_count": 4,
   "metadata": {},
   "outputs": [],
   "source": [
    "import requests\n",
    "from bs4 import BeautifulSoup\n",
    "import time"
   ]
  },
  {
   "cell_type": "code",
   "execution_count": 5,
   "metadata": {},
   "outputs": [],
   "source": [
    "serviceKey = [\n",
    "'17fE4NH591MbdnqzN321LiGIFYgJ6XG3LEwBDNDeVYFQm6B9cG24yEdGLjpUa0zu7L1uJagT1fAlxXl9YlSd7Q%3D%3D',\n",
    "'xsYCorXQLS6GeIHlSblN8cDUql3lya%2FhmRun3ZWAg4uwyPSPZX1ymJcPzt9yDNco1RdLO0Q28d542JfeI%2FoGRQ%3D%3D',\n",
    "'pluGlBNSzwcQD9L6%2Fq%2B37%2F7ZZOYcjonWJ7eeqjUPy8dmhx9NxyTeEHPsmaXOekWlvImkztRMjZDI4Asp2%2BXdyA%3D%3D',\n",
    "'ydnnpHpT6l2Y4DExg3mptI1GVHORb0OrGUz%2FlWFNg1rTa5OdqRKmHtfct8SF%2B84E84ZNRev03220ZCpElCzKGQ%3D%3D',\n",
    "'fAVoRthJ7w6qLml%2Bs%2FVn2z6uXx5wba3vEIUZtl8S73v30WXT0RoQTJmOyDa6BhmRCxO3vaI0UJkOwZdIrosY7g%3D%3D',\n",
    "'7tEdncbTNM%2B53QBBwElYZLgu1wPpxc3oZn%2FMIceVEB%2Fn3MPrYbIoDPlcsYLPAcCnNQpSTMq7A%2FMM%2BSycwtDm8Q%3D%3D',\n",
    "'WKji4TSJk6O7Q8LBRLJma0%2BpGuGuGwC5%2FHYgacryM4AzLtHo8zccch60szLmam7YBLzPPPfSKBfVu9hNXFEYGA%3D%3D',\n",
    "'eFOmgSlNbqagW9tpdkIXv0FdPqQCAFGzhPLp8zsJarW%2F%2F8KXxHsGDI0WPPnFz2jFSKDc7o6pkLDavJyAVhBQjg%3D%3D',\n",
    "'pvRKIPC0dicOxZ%2FvMNIO%2FpvuiLdq5B9ugO3XnBVBBthwwZuD20IS19afpNhX94MPX1pvE4rGKewrbbvXqO6yeQ%3D%3D',\n",
    "'zDf1VAbwhMoKbU3Tn%2FpUK5S7H7c3RdOU%2B%2FpReOEFBw24pImKGWejUvXCTJebWwXfp%2Byj95i7mF0oIFDFc5shfA%3D%3D',\n",
    "'LItL5w1RWPukBFoiKQ%2FD7PpMoiPbmUdbIqzEHCMFaTuCWjul4w1D52XgsX0V58ZedNFdmOKFtiPT%2FWEHdiT5uw%3D%3D',\n",
    "'Gd%2BMq2gtJ5b9dmlPh6r6hg0j6zXCN9dndZd%2FM3S7D0TqyXlRV%2FEyOX54yF7GTK4jms31lMokRk4vZy48ULCr6A%3D%3D',\n",
    "'4fxQgZUy2hbO%2FEU61rpuNySpc3%2BGWZVXnRw0lkd0wireOAdSTyLaiErL%2FVOBnP5YTe5nXRJdFv3FyMcH%2Bh6lbg%3D%3D',\n",
    "'%2FGN%2BQBieLa7gj0y5bGz9N7%2B%2BYY5J3T2VxMQ9K7nOF8mwLAabgyvcco7fYBW5o%2BHUIs98srxPiD%2FylJ0h5JqYtg%3D%3D',\n",
    "'ebhoaoKgsYhoOWNmEmqqaPWV9rKLHJKfa6FCMfBFOfOh4%2B%2FEqp3P0GxwYxSdd6wHklE0OaNxrR0BPCLMgO4GWQ%3D%3D', \n",
    "'zzIkK5JvK5Qf0PQlG%2BGen30%2B74nnNDH%2BHUa8Gj21q0astwZNWgcy8Ul7O34wKGYUL3tgVelscNe0T1ngsr8LhA%3D%3D',\n",
    "'T7e%2BPYf146tuYKxEcZDTv9CowyQ5IG6bt0vaig3oBkGyMYzOMMj43DA7NS2Kg6paIZr46vrlAANG0MYfSAG6ug%3D%3D', \n",
    "'A6hnPJg5aBy29z%2BQw%2B7O5qsGHwriJTM2tkdTnWqRK2GsBXBi7nPEg%2BlgO2kxTVbuEH5GWCijnDlmFYrjYtxJ8A%3D%3D',\n",
    "'JQOuA6H%2B5GED2ebN1y3EeDRkQwr9BQczLJBUPE%2FHnD13IJJiWXLtRYd5PEtl%2FBqBUfojSzwyYk8SCvdIVcmYGQ%3D%3D',\n",
    "'mhHYcau5uvPAk485nkwUxwPmSwHBOzgAvN5M8WYMsRLTBhbV8plJSMQcTXOJ4qelyWqJZZjLbSbx9hLDrt8GGg%3D%3D',\n",
    "'9JY1jEJr%2Fo411aMc1WQhEBTR4EL4oEXVEuzo8d8GRMIuLJ9TJwJPj17%2FT%2Fl1i7nVvr%2FM7QDWtGF%2BOukWBs7T6w%3D%3D',\n",
    "'3XgU8wCs8EYBaH%2BNNfp5FYhtq0Pmm8XbszveY0hANeC35UFCP2R4bblptP14vxU0MLXaMbeicjYca3GTni%2BwXA%3D%3D',\n",
    "'jinBdygjITTh%2BdbEWG6DajHBUwB2BJbdjVGCpqi3HCAgmqgvZibEVIIz%2BqJ9j0isgQ6MH2IOgoqV5a82x83gZA%3D%3D',\n",
    "'tCdOLU5Uzt%2FO0KmLIYqZSvUVXMFI09J9Ypf%2FR6zRz7Brg78PyFngcRRiz2%2FLIhmxSir4sJ5fMTlOTsl7kHYrug%3D%3D',\n",
    "'dn0AsDO%2BDYT4eyDFEIsGiA518Hs%2B%2BKrEeSF9ZbrpYf6A3A2ySnnOCVJBu27ITk%2BdciNwaag4ULUcbSPNZvX3CA%3D%3D',\n",
    "'xwgODeBQguCeaAZYpZRFwGjBiQJSBlq8XZsN86fBqnZ7msUod8uUfYtjCCDI7HlnpzPHnVlCbN61XHyMmh0VBA%3D%3D',\n",
    "'liLwK4N1T04lqoN9rQKNX5UniCucaNFEWdDSjJL8lRs7veBVNLBOUczyMNNhVm1prmU4mZFmigmuOiNX9%2B48yg%3D%3D',\n",
    "'4ehDKWXvirSm7MiRPEeFefnxApsVNXaw3WgxnOoLsOUIXUmZW6hHIFbgmkaYOUxK915rN1cTE6FbdkXkml8zjA%3D%3D',\n",
    "'dNZWlZbeIWGzxUJH0qrd6Tgza4CjxdpdSUvbVsbWDsv1FkD1dV7J4ziLqsex40vkVGupL4VaKqqC9cFRM2mBsA%3D%3D',\n",
    "'1famqleYz%2FAt4bgyjC2qMqqgnJJwYEmmMVYpJ06aoiKQnt1KEgTNQ6yW1lAs2QvIRsc3iT8IU7k9b32%2F8LyD4w%3D%3D',\n",
    "\"ifKRU73xKAdgp5Z2cQ6BDZSHhEOvKL8TNiEegFTFxtM9AWL6l0Wx8WJ4DfmQDZrTjjb509tqW0hO2wA9FE%2BWsQ%3D%3D\"\n",
    "]"
   ]
  },
  {
   "cell_type": "code",
   "execution_count": 6,
   "metadata": {},
   "outputs": [
    {
     "data": {
      "text/plain": [
       "31"
      ]
     },
     "execution_count": 6,
     "metadata": {},
     "output_type": "execute_result"
    }
   ],
   "source": [
    "len(serviceKey)"
   ]
  },
  {
   "cell_type": "markdown",
   "metadata": {},
   "source": [
    "하나의 키로 하나의 버스 노선의 현재 운행중인 버스 목록을 가져오는 함수"
   ]
  },
  {
   "cell_type": "code",
   "execution_count": 7,
   "metadata": {},
   "outputs": [],
   "source": [
    "def getData(key, routeID):\n",
    "    url =  \"http://ws.bus.go.kr/api/rest/buspos/getLowBusPosByRtid\"\n",
    "    data = requests.get(url+ \"?serviceKey=\"+key+\"&busRouteId=\"+routeID)\n",
    "    xml = BeautifulSoup(data.text, \"lxml\")\n",
    "    busList = xml.findAll(\"itemlist\") #해당 노선의 현재 운행중인 모든 저상버스\n",
    "    \n",
    "    return busList\n"
   ]
  },
  {
   "cell_type": "code",
   "execution_count": 8,
   "metadata": {},
   "outputs": [],
   "source": [
    "lowbusID = ['100100570', '100100549', '100100006', '100100007', '100100010', '100100012', '100100016', '100100015', '100100017', '100100583', '100100018', '100100019', '100100020', '100100021', '100100022', '100100023', '100100024', '100100025', '100100026', '100100027', '100100029', '100100030', '100100031', '100100032', '100100033', '100100034', '100100036', '110000002', '100100038', '100100039', '100100407', '100100042', '100100043', '100100044', '100100046', '100100047', '100100048', '100100049', '100100051', '100100052', '100100053', '100100564', '100100496', '100100055', '100100056', '124000038', '100100553', '100100057', '124000036', '100100061', '100100596', '100100062', '100100063', '100100597', '100100064', '100100461', '100100068', '100100409', '100100459', '100100070', '113000002', '100100071', '100100605', '100100073', '100100074', '100100075', '100100076', '100100077', '100100410', '100100078', '100100079', '100100080', '100100081', '100100082', '100100083', '100100574', '100100084', '100100085', '100100086', '100100087', '100100088', '100100090', '100100091', '100100093', '100100094', '100100096', '100100097', '100100098', '100100497', '115000007', '100100102', '100100550', '100100436', '100100495', '100100551', '100100440', '100100103', '100100104', '100100105', '100100107', '100100587', '100100511', '100100110', '100100111', '100100112', '100100537', '100100114', '100100565', '100100116', '100100117', '100100118', '111000014', '100100437', '111000011', '100100131', '100100143', '100100144', '100100148', '100100154', '100100155', '100100159', '100100164', '100100165', '100100175', '100100177', '100100179', '100100181', '100100184', '100100185', '100100186', '100100188', '100100189', '100100190', '100100522', '100100198', '100100199', '100100202', '100100203', '100100204', '100100205', '100100599', '100100611', '100100209', '100100210', '100100211', '100100438', '100100579', '100100213', '100100215', '100100216', '100100218', '100100220', '100100221', '100100222', '100100478', '100100498', '100100501', '100100578', '100100613', '100100223', '100100224', '100100225', '100100226', '100100228', '100100229', '100100232', '100100609', '100100612', '100100234', '100100427', '100100500', '100100454', '100100246', '122000001', '100100248', '100100254', '100100257', '100100258', '100100259', '100100260', '100100261', '100100263', '100100264', '100100265', '100100266', '100100267', '100100268', '100100269', '100100272', '100100273', '100100274', '100100275', '100100276', '100100277', '100100279', '100100282', '100100283', '100100284', '100100285', '100100288', '100100289', '100100290', '100100291', '100100292', '100100294', '100100521', '100100576', '100100300', '100100301', '100100304', '100100305', '100100306', '100100307', '100100308', '100100311', '100100313', '100100601', '100100602', '100100318', '115000005', '100100329', '100100330', '100100331', '100100332', '100100451', '100100449', '100100448', '100100447', '100100337', '100100338', '100100339', '100100340', '100100341', '100100446', '100100344', '100100499', '100100345', '100100346', '100100347', '100100348', '100100462', '100100352', '100100353', '100100360', '111000010', '100100001', '100100003', '165000381', '222000032', '207000004', '213000011', '222000045', '235000020', '234000040', '210000002', '229000041', '222000028', '222000048', '222000058', '232000095', '227000006', '227000001', '234000003', '207000027', '210000013', '210000003', '210000001', '204000012', '224000008', '210000009', '204000005', '210000069', '210000042', '204000013', '210000037', '207000002', '236000048', '233000031', '200000149', '210000093', '222000084', '212000002', '222000008', '222000111', '222000027', '222000009']"
   ]
  },
  {
   "cell_type": "code",
   "execution_count": 9,
   "metadata": {},
   "outputs": [
    {
     "data": {
      "text/plain": [
       "286"
      ]
     },
     "execution_count": 9,
     "metadata": {},
     "output_type": "execute_result"
    }
   ],
   "source": [
    "len(lowbusID)"
   ]
  },
  {
   "cell_type": "markdown",
   "metadata": {},
   "source": [
    "각각의 버스노선을 객체로 만들어 현재 운행중인 해당 노선의 버스 목록과 각 버스의 위치정보 제공시간을 저장함"
   ]
  },
  {
   "cell_type": "code",
   "execution_count": 10,
   "metadata": {},
   "outputs": [],
   "source": [
    "class LowBus:\n",
    "    def __init__(self, routeID):\n",
    "        self.id = routeID\n",
    "        self.busList = {}\n",
    "        self.bus_time = {}"
   ]
  },
  {
   "cell_type": "code",
   "execution_count": 11,
   "metadata": {},
   "outputs": [],
   "source": [
    "lowbusList= []\n",
    "\n",
    "for lowbus in lowbusID:\n",
    "    lowbusList.append(LowBus(lowbus))   #전체 lowbus 객체 생성"
   ]
  },
  {
   "cell_type": "code",
   "execution_count": 12,
   "metadata": {},
   "outputs": [],
   "source": [
    "import datetime as dt"
   ]
  },
  {
   "cell_type": "markdown",
   "metadata": {},
   "source": [
    "5시~1시까지 반복"
   ]
  },
  {
   "cell_type": "code",
   "execution_count": 13,
   "metadata": {},
   "outputs": [
    {
     "ename": "ConnectionError",
     "evalue": "HTTPConnectionPool(host='ws.bus.go.kr', port=80): Max retries exceeded with url: /api/rest/buspos/getLowBusPosByRtid?serviceKey=9JY1jEJr%2Fo411aMc1WQhEBTR4EL4oEXVEuzo8d8GRMIuLJ9TJwJPj17%2FT%2Fl1i7nVvr%2FM7QDWtGF%2BOukWBs7T6w%3D%3D&busRouteId=100100570 (Caused by NewConnectionError('<urllib3.connection.HTTPConnection object at 0x00000164662335C0>: Failed to establish a new connection: [WinError 10053] 현재 연결은 사용자의 호스트 시스템의 소프트웨어의 의해 중단되었습니다',))",
     "output_type": "error",
     "traceback": [
      "\u001b[1;31m---------------------------------------------------------------------------\u001b[0m",
      "\u001b[1;31mConnectionAbortedError\u001b[0m                    Traceback (most recent call last)",
      "\u001b[1;32m~\\Anaconda3\\lib\\site-packages\\urllib3\\connection.py\u001b[0m in \u001b[0;36m_new_conn\u001b[1;34m(self)\u001b[0m\n\u001b[0;32m    140\u001b[0m             conn = connection.create_connection(\n\u001b[1;32m--> 141\u001b[1;33m                 (self.host, self.port), self.timeout, **extra_kw)\n\u001b[0m\u001b[0;32m    142\u001b[0m \u001b[1;33m\u001b[0m\u001b[0m\n",
      "\u001b[1;32m~\\Anaconda3\\lib\\site-packages\\urllib3\\util\\connection.py\u001b[0m in \u001b[0;36mcreate_connection\u001b[1;34m(address, timeout, source_address, socket_options)\u001b[0m\n\u001b[0;32m     82\u001b[0m     \u001b[1;32mif\u001b[0m \u001b[0merr\u001b[0m \u001b[1;32mis\u001b[0m \u001b[1;32mnot\u001b[0m \u001b[1;32mNone\u001b[0m\u001b[1;33m:\u001b[0m\u001b[1;33m\u001b[0m\u001b[0m\n\u001b[1;32m---> 83\u001b[1;33m         \u001b[1;32mraise\u001b[0m \u001b[0merr\u001b[0m\u001b[1;33m\u001b[0m\u001b[0m\n\u001b[0m\u001b[0;32m     84\u001b[0m \u001b[1;33m\u001b[0m\u001b[0m\n",
      "\u001b[1;32m~\\Anaconda3\\lib\\site-packages\\urllib3\\util\\connection.py\u001b[0m in \u001b[0;36mcreate_connection\u001b[1;34m(address, timeout, source_address, socket_options)\u001b[0m\n\u001b[0;32m     72\u001b[0m                 \u001b[0msock\u001b[0m\u001b[1;33m.\u001b[0m\u001b[0mbind\u001b[0m\u001b[1;33m(\u001b[0m\u001b[0msource_address\u001b[0m\u001b[1;33m)\u001b[0m\u001b[1;33m\u001b[0m\u001b[0m\n\u001b[1;32m---> 73\u001b[1;33m             \u001b[0msock\u001b[0m\u001b[1;33m.\u001b[0m\u001b[0mconnect\u001b[0m\u001b[1;33m(\u001b[0m\u001b[0msa\u001b[0m\u001b[1;33m)\u001b[0m\u001b[1;33m\u001b[0m\u001b[0m\n\u001b[0m\u001b[0;32m     74\u001b[0m             \u001b[1;32mreturn\u001b[0m \u001b[0msock\u001b[0m\u001b[1;33m\u001b[0m\u001b[0m\n",
      "\u001b[1;31mConnectionAbortedError\u001b[0m: [WinError 10053] 현재 연결은 사용자의 호스트 시스템의 소프트웨어의 의해 중단되었습니다",
      "\nDuring handling of the above exception, another exception occurred:\n",
      "\u001b[1;31mNewConnectionError\u001b[0m                        Traceback (most recent call last)",
      "\u001b[1;32m~\\Anaconda3\\lib\\site-packages\\urllib3\\connectionpool.py\u001b[0m in \u001b[0;36murlopen\u001b[1;34m(self, method, url, body, headers, retries, redirect, assert_same_host, timeout, pool_timeout, release_conn, chunked, body_pos, **response_kw)\u001b[0m\n\u001b[0;32m    600\u001b[0m                                                   \u001b[0mbody\u001b[0m\u001b[1;33m=\u001b[0m\u001b[0mbody\u001b[0m\u001b[1;33m,\u001b[0m \u001b[0mheaders\u001b[0m\u001b[1;33m=\u001b[0m\u001b[0mheaders\u001b[0m\u001b[1;33m,\u001b[0m\u001b[1;33m\u001b[0m\u001b[0m\n\u001b[1;32m--> 601\u001b[1;33m                                                   chunked=chunked)\n\u001b[0m\u001b[0;32m    602\u001b[0m \u001b[1;33m\u001b[0m\u001b[0m\n",
      "\u001b[1;32m~\\Anaconda3\\lib\\site-packages\\urllib3\\connectionpool.py\u001b[0m in \u001b[0;36m_make_request\u001b[1;34m(self, conn, method, url, timeout, chunked, **httplib_request_kw)\u001b[0m\n\u001b[0;32m    356\u001b[0m         \u001b[1;32melse\u001b[0m\u001b[1;33m:\u001b[0m\u001b[1;33m\u001b[0m\u001b[0m\n\u001b[1;32m--> 357\u001b[1;33m             \u001b[0mconn\u001b[0m\u001b[1;33m.\u001b[0m\u001b[0mrequest\u001b[0m\u001b[1;33m(\u001b[0m\u001b[0mmethod\u001b[0m\u001b[1;33m,\u001b[0m \u001b[0murl\u001b[0m\u001b[1;33m,\u001b[0m \u001b[1;33m**\u001b[0m\u001b[0mhttplib_request_kw\u001b[0m\u001b[1;33m)\u001b[0m\u001b[1;33m\u001b[0m\u001b[0m\n\u001b[0m\u001b[0;32m    358\u001b[0m \u001b[1;33m\u001b[0m\u001b[0m\n",
      "\u001b[1;32m~\\Anaconda3\\lib\\http\\client.py\u001b[0m in \u001b[0;36mrequest\u001b[1;34m(self, method, url, body, headers, encode_chunked)\u001b[0m\n\u001b[0;32m   1238\u001b[0m         \u001b[1;34m\"\"\"Send a complete request to the server.\"\"\"\u001b[0m\u001b[1;33m\u001b[0m\u001b[0m\n\u001b[1;32m-> 1239\u001b[1;33m         \u001b[0mself\u001b[0m\u001b[1;33m.\u001b[0m\u001b[0m_send_request\u001b[0m\u001b[1;33m(\u001b[0m\u001b[0mmethod\u001b[0m\u001b[1;33m,\u001b[0m \u001b[0murl\u001b[0m\u001b[1;33m,\u001b[0m \u001b[0mbody\u001b[0m\u001b[1;33m,\u001b[0m \u001b[0mheaders\u001b[0m\u001b[1;33m,\u001b[0m \u001b[0mencode_chunked\u001b[0m\u001b[1;33m)\u001b[0m\u001b[1;33m\u001b[0m\u001b[0m\n\u001b[0m\u001b[0;32m   1240\u001b[0m \u001b[1;33m\u001b[0m\u001b[0m\n",
      "\u001b[1;32m~\\Anaconda3\\lib\\http\\client.py\u001b[0m in \u001b[0;36m_send_request\u001b[1;34m(self, method, url, body, headers, encode_chunked)\u001b[0m\n\u001b[0;32m   1284\u001b[0m             \u001b[0mbody\u001b[0m \u001b[1;33m=\u001b[0m \u001b[0m_encode\u001b[0m\u001b[1;33m(\u001b[0m\u001b[0mbody\u001b[0m\u001b[1;33m,\u001b[0m \u001b[1;34m'body'\u001b[0m\u001b[1;33m)\u001b[0m\u001b[1;33m\u001b[0m\u001b[0m\n\u001b[1;32m-> 1285\u001b[1;33m         \u001b[0mself\u001b[0m\u001b[1;33m.\u001b[0m\u001b[0mendheaders\u001b[0m\u001b[1;33m(\u001b[0m\u001b[0mbody\u001b[0m\u001b[1;33m,\u001b[0m \u001b[0mencode_chunked\u001b[0m\u001b[1;33m=\u001b[0m\u001b[0mencode_chunked\u001b[0m\u001b[1;33m)\u001b[0m\u001b[1;33m\u001b[0m\u001b[0m\n\u001b[0m\u001b[0;32m   1286\u001b[0m \u001b[1;33m\u001b[0m\u001b[0m\n",
      "\u001b[1;32m~\\Anaconda3\\lib\\http\\client.py\u001b[0m in \u001b[0;36mendheaders\u001b[1;34m(self, message_body, encode_chunked)\u001b[0m\n\u001b[0;32m   1233\u001b[0m             \u001b[1;32mraise\u001b[0m \u001b[0mCannotSendHeader\u001b[0m\u001b[1;33m(\u001b[0m\u001b[1;33m)\u001b[0m\u001b[1;33m\u001b[0m\u001b[0m\n\u001b[1;32m-> 1234\u001b[1;33m         \u001b[0mself\u001b[0m\u001b[1;33m.\u001b[0m\u001b[0m_send_output\u001b[0m\u001b[1;33m(\u001b[0m\u001b[0mmessage_body\u001b[0m\u001b[1;33m,\u001b[0m \u001b[0mencode_chunked\u001b[0m\u001b[1;33m=\u001b[0m\u001b[0mencode_chunked\u001b[0m\u001b[1;33m)\u001b[0m\u001b[1;33m\u001b[0m\u001b[0m\n\u001b[0m\u001b[0;32m   1235\u001b[0m \u001b[1;33m\u001b[0m\u001b[0m\n",
      "\u001b[1;32m~\\Anaconda3\\lib\\http\\client.py\u001b[0m in \u001b[0;36m_send_output\u001b[1;34m(self, message_body, encode_chunked)\u001b[0m\n\u001b[0;32m   1025\u001b[0m         \u001b[1;32mdel\u001b[0m \u001b[0mself\u001b[0m\u001b[1;33m.\u001b[0m\u001b[0m_buffer\u001b[0m\u001b[1;33m[\u001b[0m\u001b[1;33m:\u001b[0m\u001b[1;33m]\u001b[0m\u001b[1;33m\u001b[0m\u001b[0m\n\u001b[1;32m-> 1026\u001b[1;33m         \u001b[0mself\u001b[0m\u001b[1;33m.\u001b[0m\u001b[0msend\u001b[0m\u001b[1;33m(\u001b[0m\u001b[0mmsg\u001b[0m\u001b[1;33m)\u001b[0m\u001b[1;33m\u001b[0m\u001b[0m\n\u001b[0m\u001b[0;32m   1027\u001b[0m \u001b[1;33m\u001b[0m\u001b[0m\n",
      "\u001b[1;32m~\\Anaconda3\\lib\\http\\client.py\u001b[0m in \u001b[0;36msend\u001b[1;34m(self, data)\u001b[0m\n\u001b[0;32m    963\u001b[0m             \u001b[1;32mif\u001b[0m \u001b[0mself\u001b[0m\u001b[1;33m.\u001b[0m\u001b[0mauto_open\u001b[0m\u001b[1;33m:\u001b[0m\u001b[1;33m\u001b[0m\u001b[0m\n\u001b[1;32m--> 964\u001b[1;33m                 \u001b[0mself\u001b[0m\u001b[1;33m.\u001b[0m\u001b[0mconnect\u001b[0m\u001b[1;33m(\u001b[0m\u001b[1;33m)\u001b[0m\u001b[1;33m\u001b[0m\u001b[0m\n\u001b[0m\u001b[0;32m    965\u001b[0m             \u001b[1;32melse\u001b[0m\u001b[1;33m:\u001b[0m\u001b[1;33m\u001b[0m\u001b[0m\n",
      "\u001b[1;32m~\\Anaconda3\\lib\\site-packages\\urllib3\\connection.py\u001b[0m in \u001b[0;36mconnect\u001b[1;34m(self)\u001b[0m\n\u001b[0;32m    165\u001b[0m     \u001b[1;32mdef\u001b[0m \u001b[0mconnect\u001b[0m\u001b[1;33m(\u001b[0m\u001b[0mself\u001b[0m\u001b[1;33m)\u001b[0m\u001b[1;33m:\u001b[0m\u001b[1;33m\u001b[0m\u001b[0m\n\u001b[1;32m--> 166\u001b[1;33m         \u001b[0mconn\u001b[0m \u001b[1;33m=\u001b[0m \u001b[0mself\u001b[0m\u001b[1;33m.\u001b[0m\u001b[0m_new_conn\u001b[0m\u001b[1;33m(\u001b[0m\u001b[1;33m)\u001b[0m\u001b[1;33m\u001b[0m\u001b[0m\n\u001b[0m\u001b[0;32m    167\u001b[0m         \u001b[0mself\u001b[0m\u001b[1;33m.\u001b[0m\u001b[0m_prepare_conn\u001b[0m\u001b[1;33m(\u001b[0m\u001b[0mconn\u001b[0m\u001b[1;33m)\u001b[0m\u001b[1;33m\u001b[0m\u001b[0m\n",
      "\u001b[1;32m~\\Anaconda3\\lib\\site-packages\\urllib3\\connection.py\u001b[0m in \u001b[0;36m_new_conn\u001b[1;34m(self)\u001b[0m\n\u001b[0;32m    149\u001b[0m             raise NewConnectionError(\n\u001b[1;32m--> 150\u001b[1;33m                 self, \"Failed to establish a new connection: %s\" % e)\n\u001b[0m\u001b[0;32m    151\u001b[0m \u001b[1;33m\u001b[0m\u001b[0m\n",
      "\u001b[1;31mNewConnectionError\u001b[0m: <urllib3.connection.HTTPConnection object at 0x00000164662335C0>: Failed to establish a new connection: [WinError 10053] 현재 연결은 사용자의 호스트 시스템의 소프트웨어의 의해 중단되었습니다",
      "\nDuring handling of the above exception, another exception occurred:\n",
      "\u001b[1;31mMaxRetryError\u001b[0m                             Traceback (most recent call last)",
      "\u001b[1;32m~\\Anaconda3\\lib\\site-packages\\requests\\adapters.py\u001b[0m in \u001b[0;36msend\u001b[1;34m(self, request, stream, timeout, verify, cert, proxies)\u001b[0m\n\u001b[0;32m    439\u001b[0m                     \u001b[0mretries\u001b[0m\u001b[1;33m=\u001b[0m\u001b[0mself\u001b[0m\u001b[1;33m.\u001b[0m\u001b[0mmax_retries\u001b[0m\u001b[1;33m,\u001b[0m\u001b[1;33m\u001b[0m\u001b[0m\n\u001b[1;32m--> 440\u001b[1;33m                     \u001b[0mtimeout\u001b[0m\u001b[1;33m=\u001b[0m\u001b[0mtimeout\u001b[0m\u001b[1;33m\u001b[0m\u001b[0m\n\u001b[0m\u001b[0;32m    441\u001b[0m                 )\n",
      "\u001b[1;32m~\\Anaconda3\\lib\\site-packages\\urllib3\\connectionpool.py\u001b[0m in \u001b[0;36murlopen\u001b[1;34m(self, method, url, body, headers, retries, redirect, assert_same_host, timeout, pool_timeout, release_conn, chunked, body_pos, **response_kw)\u001b[0m\n\u001b[0;32m    638\u001b[0m             retries = retries.increment(method, url, error=e, _pool=self,\n\u001b[1;32m--> 639\u001b[1;33m                                         _stacktrace=sys.exc_info()[2])\n\u001b[0m\u001b[0;32m    640\u001b[0m             \u001b[0mretries\u001b[0m\u001b[1;33m.\u001b[0m\u001b[0msleep\u001b[0m\u001b[1;33m(\u001b[0m\u001b[1;33m)\u001b[0m\u001b[1;33m\u001b[0m\u001b[0m\n",
      "\u001b[1;32m~\\Anaconda3\\lib\\site-packages\\urllib3\\util\\retry.py\u001b[0m in \u001b[0;36mincrement\u001b[1;34m(self, method, url, response, error, _pool, _stacktrace)\u001b[0m\n\u001b[0;32m    387\u001b[0m         \u001b[1;32mif\u001b[0m \u001b[0mnew_retry\u001b[0m\u001b[1;33m.\u001b[0m\u001b[0mis_exhausted\u001b[0m\u001b[1;33m(\u001b[0m\u001b[1;33m)\u001b[0m\u001b[1;33m:\u001b[0m\u001b[1;33m\u001b[0m\u001b[0m\n\u001b[1;32m--> 388\u001b[1;33m             \u001b[1;32mraise\u001b[0m \u001b[0mMaxRetryError\u001b[0m\u001b[1;33m(\u001b[0m\u001b[0m_pool\u001b[0m\u001b[1;33m,\u001b[0m \u001b[0murl\u001b[0m\u001b[1;33m,\u001b[0m \u001b[0merror\u001b[0m \u001b[1;32mor\u001b[0m \u001b[0mResponseError\u001b[0m\u001b[1;33m(\u001b[0m\u001b[0mcause\u001b[0m\u001b[1;33m)\u001b[0m\u001b[1;33m)\u001b[0m\u001b[1;33m\u001b[0m\u001b[0m\n\u001b[0m\u001b[0;32m    389\u001b[0m \u001b[1;33m\u001b[0m\u001b[0m\n",
      "\u001b[1;31mMaxRetryError\u001b[0m: HTTPConnectionPool(host='ws.bus.go.kr', port=80): Max retries exceeded with url: /api/rest/buspos/getLowBusPosByRtid?serviceKey=9JY1jEJr%2Fo411aMc1WQhEBTR4EL4oEXVEuzo8d8GRMIuLJ9TJwJPj17%2FT%2Fl1i7nVvr%2FM7QDWtGF%2BOukWBs7T6w%3D%3D&busRouteId=100100570 (Caused by NewConnectionError('<urllib3.connection.HTTPConnection object at 0x00000164662335C0>: Failed to establish a new connection: [WinError 10053] 현재 연결은 사용자의 호스트 시스템의 소프트웨어의 의해 중단되었습니다',))",
      "\nDuring handling of the above exception, another exception occurred:\n",
      "\u001b[1;31mConnectionError\u001b[0m                           Traceback (most recent call last)",
      "\u001b[1;32m<ipython-input-13-68736936d806>\u001b[0m in \u001b[0;36m<module>\u001b[1;34m()\u001b[0m\n\u001b[0;32m     24\u001b[0m                 \u001b[1;32mfor\u001b[0m \u001b[0mlowbus\u001b[0m \u001b[1;32min\u001b[0m \u001b[0mlowbusList\u001b[0m\u001b[1;33m:\u001b[0m\u001b[1;33m\u001b[0m\u001b[0m\n\u001b[0;32m     25\u001b[0m \u001b[1;31m#                     print(lowbus.id)\u001b[0m\u001b[1;33m\u001b[0m\u001b[1;33m\u001b[0m\u001b[0m\n\u001b[1;32m---> 26\u001b[1;33m                     \u001b[0mlowbus\u001b[0m\u001b[1;33m.\u001b[0m\u001b[0mbusList\u001b[0m \u001b[1;33m=\u001b[0m \u001b[0mgetData\u001b[0m\u001b[1;33m(\u001b[0m\u001b[0mkey\u001b[0m\u001b[1;33m,\u001b[0m \u001b[0mlowbus\u001b[0m\u001b[1;33m.\u001b[0m\u001b[0mid\u001b[0m\u001b[1;33m)\u001b[0m\u001b[1;33m\u001b[0m\u001b[0m\n\u001b[0m\u001b[0;32m     27\u001b[0m                     \u001b[0mcall\u001b[0m \u001b[1;33m-=\u001b[0m \u001b[1;36m1\u001b[0m\u001b[1;33m\u001b[0m\u001b[0m\n\u001b[0;32m     28\u001b[0m \u001b[1;33m\u001b[0m\u001b[0m\n",
      "\u001b[1;32m<ipython-input-7-d7a889dad942>\u001b[0m in \u001b[0;36mgetData\u001b[1;34m(key, routeID)\u001b[0m\n\u001b[0;32m      1\u001b[0m \u001b[1;32mdef\u001b[0m \u001b[0mgetData\u001b[0m\u001b[1;33m(\u001b[0m\u001b[0mkey\u001b[0m\u001b[1;33m,\u001b[0m \u001b[0mrouteID\u001b[0m\u001b[1;33m)\u001b[0m\u001b[1;33m:\u001b[0m\u001b[1;33m\u001b[0m\u001b[0m\n\u001b[0;32m      2\u001b[0m     \u001b[0murl\u001b[0m \u001b[1;33m=\u001b[0m  \u001b[1;34m\"http://ws.bus.go.kr/api/rest/buspos/getLowBusPosByRtid\"\u001b[0m\u001b[1;33m\u001b[0m\u001b[0m\n\u001b[1;32m----> 3\u001b[1;33m     \u001b[0mdata\u001b[0m \u001b[1;33m=\u001b[0m \u001b[0mrequests\u001b[0m\u001b[1;33m.\u001b[0m\u001b[0mget\u001b[0m\u001b[1;33m(\u001b[0m\u001b[0murl\u001b[0m\u001b[1;33m+\u001b[0m \u001b[1;34m\"?serviceKey=\"\u001b[0m\u001b[1;33m+\u001b[0m\u001b[0mkey\u001b[0m\u001b[1;33m+\u001b[0m\u001b[1;34m\"&busRouteId=\"\u001b[0m\u001b[1;33m+\u001b[0m\u001b[0mrouteID\u001b[0m\u001b[1;33m)\u001b[0m\u001b[1;33m\u001b[0m\u001b[0m\n\u001b[0m\u001b[0;32m      4\u001b[0m     \u001b[0mxml\u001b[0m \u001b[1;33m=\u001b[0m \u001b[0mBeautifulSoup\u001b[0m\u001b[1;33m(\u001b[0m\u001b[0mdata\u001b[0m\u001b[1;33m.\u001b[0m\u001b[0mtext\u001b[0m\u001b[1;33m,\u001b[0m \u001b[1;34m\"lxml\"\u001b[0m\u001b[1;33m)\u001b[0m\u001b[1;33m\u001b[0m\u001b[0m\n\u001b[0;32m      5\u001b[0m     \u001b[0mbusList\u001b[0m \u001b[1;33m=\u001b[0m \u001b[0mxml\u001b[0m\u001b[1;33m.\u001b[0m\u001b[0mfindAll\u001b[0m\u001b[1;33m(\u001b[0m\u001b[1;34m\"itemlist\"\u001b[0m\u001b[1;33m)\u001b[0m \u001b[1;31m#해당 노선의 현재 운행중인 모든 저상버스\u001b[0m\u001b[1;33m\u001b[0m\u001b[0m\n",
      "\u001b[1;32m~\\Anaconda3\\lib\\site-packages\\requests\\api.py\u001b[0m in \u001b[0;36mget\u001b[1;34m(url, params, **kwargs)\u001b[0m\n\u001b[0;32m     70\u001b[0m \u001b[1;33m\u001b[0m\u001b[0m\n\u001b[0;32m     71\u001b[0m     \u001b[0mkwargs\u001b[0m\u001b[1;33m.\u001b[0m\u001b[0msetdefault\u001b[0m\u001b[1;33m(\u001b[0m\u001b[1;34m'allow_redirects'\u001b[0m\u001b[1;33m,\u001b[0m \u001b[1;32mTrue\u001b[0m\u001b[1;33m)\u001b[0m\u001b[1;33m\u001b[0m\u001b[0m\n\u001b[1;32m---> 72\u001b[1;33m     \u001b[1;32mreturn\u001b[0m \u001b[0mrequest\u001b[0m\u001b[1;33m(\u001b[0m\u001b[1;34m'get'\u001b[0m\u001b[1;33m,\u001b[0m \u001b[0murl\u001b[0m\u001b[1;33m,\u001b[0m \u001b[0mparams\u001b[0m\u001b[1;33m=\u001b[0m\u001b[0mparams\u001b[0m\u001b[1;33m,\u001b[0m \u001b[1;33m**\u001b[0m\u001b[0mkwargs\u001b[0m\u001b[1;33m)\u001b[0m\u001b[1;33m\u001b[0m\u001b[0m\n\u001b[0m\u001b[0;32m     73\u001b[0m \u001b[1;33m\u001b[0m\u001b[0m\n\u001b[0;32m     74\u001b[0m \u001b[1;33m\u001b[0m\u001b[0m\n",
      "\u001b[1;32m~\\Anaconda3\\lib\\site-packages\\requests\\api.py\u001b[0m in \u001b[0;36mrequest\u001b[1;34m(method, url, **kwargs)\u001b[0m\n\u001b[0;32m     56\u001b[0m     \u001b[1;31m# cases, and look like a memory leak in others.\u001b[0m\u001b[1;33m\u001b[0m\u001b[1;33m\u001b[0m\u001b[0m\n\u001b[0;32m     57\u001b[0m     \u001b[1;32mwith\u001b[0m \u001b[0msessions\u001b[0m\u001b[1;33m.\u001b[0m\u001b[0mSession\u001b[0m\u001b[1;33m(\u001b[0m\u001b[1;33m)\u001b[0m \u001b[1;32mas\u001b[0m \u001b[0msession\u001b[0m\u001b[1;33m:\u001b[0m\u001b[1;33m\u001b[0m\u001b[0m\n\u001b[1;32m---> 58\u001b[1;33m         \u001b[1;32mreturn\u001b[0m \u001b[0msession\u001b[0m\u001b[1;33m.\u001b[0m\u001b[0mrequest\u001b[0m\u001b[1;33m(\u001b[0m\u001b[0mmethod\u001b[0m\u001b[1;33m=\u001b[0m\u001b[0mmethod\u001b[0m\u001b[1;33m,\u001b[0m \u001b[0murl\u001b[0m\u001b[1;33m=\u001b[0m\u001b[0murl\u001b[0m\u001b[1;33m,\u001b[0m \u001b[1;33m**\u001b[0m\u001b[0mkwargs\u001b[0m\u001b[1;33m)\u001b[0m\u001b[1;33m\u001b[0m\u001b[0m\n\u001b[0m\u001b[0;32m     59\u001b[0m \u001b[1;33m\u001b[0m\u001b[0m\n\u001b[0;32m     60\u001b[0m \u001b[1;33m\u001b[0m\u001b[0m\n",
      "\u001b[1;32m~\\Anaconda3\\lib\\site-packages\\requests\\sessions.py\u001b[0m in \u001b[0;36mrequest\u001b[1;34m(self, method, url, params, data, headers, cookies, files, auth, timeout, allow_redirects, proxies, hooks, stream, verify, cert, json)\u001b[0m\n\u001b[0;32m    506\u001b[0m         }\n\u001b[0;32m    507\u001b[0m         \u001b[0msend_kwargs\u001b[0m\u001b[1;33m.\u001b[0m\u001b[0mupdate\u001b[0m\u001b[1;33m(\u001b[0m\u001b[0msettings\u001b[0m\u001b[1;33m)\u001b[0m\u001b[1;33m\u001b[0m\u001b[0m\n\u001b[1;32m--> 508\u001b[1;33m         \u001b[0mresp\u001b[0m \u001b[1;33m=\u001b[0m \u001b[0mself\u001b[0m\u001b[1;33m.\u001b[0m\u001b[0msend\u001b[0m\u001b[1;33m(\u001b[0m\u001b[0mprep\u001b[0m\u001b[1;33m,\u001b[0m \u001b[1;33m**\u001b[0m\u001b[0msend_kwargs\u001b[0m\u001b[1;33m)\u001b[0m\u001b[1;33m\u001b[0m\u001b[0m\n\u001b[0m\u001b[0;32m    509\u001b[0m \u001b[1;33m\u001b[0m\u001b[0m\n\u001b[0;32m    510\u001b[0m         \u001b[1;32mreturn\u001b[0m \u001b[0mresp\u001b[0m\u001b[1;33m\u001b[0m\u001b[0m\n",
      "\u001b[1;32m~\\Anaconda3\\lib\\site-packages\\requests\\sessions.py\u001b[0m in \u001b[0;36msend\u001b[1;34m(self, request, **kwargs)\u001b[0m\n\u001b[0;32m    616\u001b[0m \u001b[1;33m\u001b[0m\u001b[0m\n\u001b[0;32m    617\u001b[0m         \u001b[1;31m# Send the request\u001b[0m\u001b[1;33m\u001b[0m\u001b[1;33m\u001b[0m\u001b[0m\n\u001b[1;32m--> 618\u001b[1;33m         \u001b[0mr\u001b[0m \u001b[1;33m=\u001b[0m \u001b[0madapter\u001b[0m\u001b[1;33m.\u001b[0m\u001b[0msend\u001b[0m\u001b[1;33m(\u001b[0m\u001b[0mrequest\u001b[0m\u001b[1;33m,\u001b[0m \u001b[1;33m**\u001b[0m\u001b[0mkwargs\u001b[0m\u001b[1;33m)\u001b[0m\u001b[1;33m\u001b[0m\u001b[0m\n\u001b[0m\u001b[0;32m    619\u001b[0m \u001b[1;33m\u001b[0m\u001b[0m\n\u001b[0;32m    620\u001b[0m         \u001b[1;31m# Total elapsed time of the request (approximately)\u001b[0m\u001b[1;33m\u001b[0m\u001b[1;33m\u001b[0m\u001b[0m\n",
      "\u001b[1;32m~\\Anaconda3\\lib\\site-packages\\requests\\adapters.py\u001b[0m in \u001b[0;36msend\u001b[1;34m(self, request, stream, timeout, verify, cert, proxies)\u001b[0m\n\u001b[0;32m    506\u001b[0m                 \u001b[1;32mraise\u001b[0m \u001b[0mSSLError\u001b[0m\u001b[1;33m(\u001b[0m\u001b[0me\u001b[0m\u001b[1;33m,\u001b[0m \u001b[0mrequest\u001b[0m\u001b[1;33m=\u001b[0m\u001b[0mrequest\u001b[0m\u001b[1;33m)\u001b[0m\u001b[1;33m\u001b[0m\u001b[0m\n\u001b[0;32m    507\u001b[0m \u001b[1;33m\u001b[0m\u001b[0m\n\u001b[1;32m--> 508\u001b[1;33m             \u001b[1;32mraise\u001b[0m \u001b[0mConnectionError\u001b[0m\u001b[1;33m(\u001b[0m\u001b[0me\u001b[0m\u001b[1;33m,\u001b[0m \u001b[0mrequest\u001b[0m\u001b[1;33m=\u001b[0m\u001b[0mrequest\u001b[0m\u001b[1;33m)\u001b[0m\u001b[1;33m\u001b[0m\u001b[0m\n\u001b[0m\u001b[0;32m    509\u001b[0m \u001b[1;33m\u001b[0m\u001b[0m\n\u001b[0;32m    510\u001b[0m         \u001b[1;32mexcept\u001b[0m \u001b[0mClosedPoolError\u001b[0m \u001b[1;32mas\u001b[0m \u001b[0me\u001b[0m\u001b[1;33m:\u001b[0m\u001b[1;33m\u001b[0m\u001b[0m\n",
      "\u001b[1;31mConnectionError\u001b[0m: HTTPConnectionPool(host='ws.bus.go.kr', port=80): Max retries exceeded with url: /api/rest/buspos/getLowBusPosByRtid?serviceKey=9JY1jEJr%2Fo411aMc1WQhEBTR4EL4oEXVEuzo8d8GRMIuLJ9TJwJPj17%2FT%2Fl1i7nVvr%2FM7QDWtGF%2BOukWBs7T6w%3D%3D&busRouteId=100100570 (Caused by NewConnectionError('<urllib3.connection.HTTPConnection object at 0x00000164662335C0>: Failed to establish a new connection: [WinError 10053] 현재 연결은 사용자의 호스트 시스템의 소프트웨어의 의해 중단되었습니다',))"
     ]
    }
   ],
   "source": [
    "while True:\n",
    "    today = dt.datetime.now().day\n",
    "    now = dt.datetime.now().hour\n",
    "    \n",
    "    if now >=5 or now < 1:\n",
    "    \n",
    "        for key in serviceKey:\n",
    "            \n",
    "            if dt.datetime.now().day > today and dt.datetime.now().hour >= 1:\n",
    "                    break\n",
    "                \n",
    "            no_bus = False\n",
    "\n",
    "            call =  10000 // len(lowbusID)\n",
    "#             print(key)\n",
    "        #     call = 4\n",
    "            while call > 0 :  #call 수 만큼 반복 가능 - 할당된 call을 다 사용하면 다음 서비스키 사용\n",
    "                \n",
    "                if dt.datetime.now().day > today and dt.datetime.now().hour >= 1:\n",
    "                    break\n",
    "                         \n",
    "                no_bus = True\n",
    "\n",
    "                for lowbus in lowbusList:\n",
    "#                     print(lowbus.id)\n",
    "                    lowbus.busList = getData(key, lowbus.id)\n",
    "                    call -= 1\n",
    "\n",
    "\n",
    "                    if lowbus.busList:\n",
    "                        no_bus = False\n",
    "                        for bus in lowbus.busList:\n",
    "                            vehid = bus.vehid.text\n",
    "                            stop = int(bus.stopflag.text)\n",
    "                            bus_time = bus.datatm.text[8:]\n",
    "#                             print('vehid: ', vehid)\n",
    "#                             print('stop: ', stop)\n",
    "#                             print('time: ', bus_time)\n",
    "#                             print('x, y: ',bus.tmx.text, ', ',bus.tmy.text)\n",
    "\n",
    "                            if vehid in lowbus.bus_time.keys():\n",
    "                                if lowbus.bus_time[vehid]!=bus_time and stop:  #정류장 도착\n",
    "                                    #DB에 시간, 위치 저장\n",
    "                                    conn.execute(Timetable.insert(), routeId = lowbus.id, date = bus.datatm.text[:8], arrivalTm=bus.datatm.text[8:] , posX = bus.tmx.text, posY = bus.tmy.text) \n",
    "#                                     print('db update')\n",
    "                            elif stop == 1:\n",
    "                                    #DB에 시간 저장\n",
    "                                    conn.execute(Timetable.insert(), routeId = lowbus.id, date = bus.datatm.text[:8], arrivalTm=bus.datatm.text[8:] , posX = bus.tmx.text, posY = bus.tmy.text) \n",
    "#                                     print('db update')\n",
    "                            lowbus.bus_time[vehid] = bus_time\n",
    "\n",
    "                            if vehid in lowbus.bus_time.keys() and (int(bus.nextsttm.text) >= int(bus.laststtm.text)):  #종점에 도착한 버스는 pop\n",
    "                                lowbus.bus_time.pop(vehid)\n",
    "\n",
    "#                             print()\n",
    "\n",
    "                    if call <= 0:\n",
    "                        break\n",
    "\n",
    "#                     print(\"-----------------------------\")      \n",
    "                    \n",
    "\n",
    "                time.sleep(60)       \n",
    "\n",
    "            if no_bus:\n",
    "#                 print('no bus')\n",
    "                break\n",
    "    else:\n",
    "        time.sleep(900)"
   ]
  },
  {
   "cell_type": "code",
   "execution_count": null,
   "metadata": {},
   "outputs": [],
   "source": [
    "for row in conn.execute(select([Timetable])):\n",
    "    print(row)"
   ]
  },
  {
   "cell_type": "code",
   "execution_count": null,
   "metadata": {},
   "outputs": [],
   "source": [
    "dt.datetime.now().day"
   ]
  },
  {
   "cell_type": "code",
   "execution_count": 1,
   "metadata": {},
   "outputs": [],
   "source": [
    "import pandas"
   ]
  },
  {
   "cell_type": "code",
   "execution_count": null,
   "metadata": {},
   "outputs": [],
   "source": []
  }
 ],
 "metadata": {
  "kernelspec": {
   "display_name": "Python 3",
   "language": "python",
   "name": "python3"
  },
  "language_info": {
   "codemirror_mode": {
    "name": "ipython",
    "version": 3
   },
   "file_extension": ".py",
   "mimetype": "text/x-python",
   "name": "python",
   "nbconvert_exporter": "python",
   "pygments_lexer": "ipython3",
   "version": "3.6.5"
  }
 },
 "nbformat": 4,
 "nbformat_minor": 2
}
