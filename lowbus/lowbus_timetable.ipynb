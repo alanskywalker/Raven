{
 "cells": [
  {
   "cell_type": "markdown",
   "metadata": {},
   "source": [
    "저상버스의 시간표를 저장하는 DB"
   ]
  },
  {
   "cell_type": "code",
   "execution_count": 1,
   "metadata": {},
   "outputs": [],
   "source": [
    "import sqlalchemy\n",
    "from sqlalchemy import create_engine\n",
    "from sqlalchemy import MetaData\n",
    "from sqlalchemy import Table, Column, Integer, String\n",
    "from sqlalchemy.sql import select"
   ]
  },
  {
   "cell_type": "code",
   "execution_count": 49,
   "metadata": {},
   "outputs": [],
   "source": [
    "engine = create_engine(\"sqlite:///\", echo=False)\n",
    "metadata = MetaData()\n",
    "\n",
    "Timetable = Table('Timetable', metadata, \n",
    "              Column('_id', Integer, primary_key =True, autoincrement=True ),\n",
    "              Column('routeId', Integer, nullable = False),\n",
    "              Column('date', String(8), nullable = False), \n",
    "              Column('arrivalTm',String(6)),\n",
    "              Column('posX',String), \n",
    "              Column('posY',String))  \n",
    "\n",
    "metadata.create_all(engine) \n",
    "conn = engine.connect()"
   ]
  },
  {
   "cell_type": "markdown",
   "metadata": {},
   "source": [
    "버스위치api를 반복 호출하면서 현재 운행중인 저상버스가 정류소에 도착하는 시간을 DB에 저장"
   ]
  },
  {
   "cell_type": "markdown",
   "metadata": {},
   "source": [
    "방법)\n",
    "- 위치 최초 호출: 운행중인 저상버스의 위치와 정류소 도착 여부 저장(1이면 DB저장)\n",
    "- 20초 후 재호출: 이미 운행중이던 버스의 도착여부가 0에서 1로 바뀌었다면 DB에 도착시간 저장. \n",
    "- 더 이상 운행하는 차량이 없을 때까지 api를 반복 호출하며 각 정류소의 도착 시간을 저장"
   ]
  },
  {
   "cell_type": "code",
   "execution_count": 3,
   "metadata": {},
   "outputs": [],
   "source": [
    "import requests\n",
    "from bs4 import BeautifulSoup\n",
    "import time"
   ]
  },
  {
   "cell_type": "code",
   "execution_count": 50,
   "metadata": {},
   "outputs": [],
   "source": [
    "def getData(routeID):\n",
    "    url =  \"http://ws.bus.go.kr/api/rest/buspos/getLowBusPosByRtid\"\n",
    "    serviceKey = \"ifKRU73xKAdgp5Z2cQ6BDZSHhEOvKL8TNiEegFTFxtM9AWL6l0Wx8WJ4DfmQDZrTjjb509tqW0hO2wA9FE%2BWsQ%3D%3D\"\n",
    "    data = requests.get(url+ \"?serviceKey=\"+serviceKey+\"&busRouteId=\"+routeID)\n",
    "    xml = BeautifulSoup(data.text, \"lxml\")\n",
    "    busList = xml.findAll(\"itemlist\") #해당 노선의 현재 운행중인 모든 저상버스\n",
    "    \n",
    "    return busList\n",
    "\n",
    "\n",
    "def timetable(routeID):\n",
    "    busList = getData(routeID)\n",
    "    bus_stop = {}\n",
    "    \n",
    "    while busList: #운행중인 버스가 하나라도 있는 경우\n",
    "        print(bus_stop.keys())\n",
    "        for bus in busList:\n",
    "            vehid = bus.vehid.text\n",
    "            stop = int(bus.stopflag.text)\n",
    "            \n",
    "            print('vehid: ', vehid)\n",
    "            print('stop: ', stop)\n",
    "            \n",
    "            if vehid in bus_stop.keys():\n",
    "                if not bus_stop[vehid] and stop:  #정류장여부 0->1\n",
    "                    #DB에 시간, 위치 저장\n",
    "                    conn.execute(Timetable.insert(), routeId = routeID, date = bus.datatm.text[:8], arrivalTm=bus.datatm.text[8:] , posX = bus.tmx.text, posY = bus.tmy.text) \n",
    "                    print('db update')\n",
    "            elif stop == 1:\n",
    "                    #DB에 시간 저장\n",
    "                    conn.execute(Timetable.insert(), routeId = routeID, date = bus.datatm.text[:8], arrivalTm=bus.datatm.text[8:] , posX = bus.tmx.text, posY = bus.tmy.text) \n",
    "                    print('db update')\n",
    "            bus_stop[vehid] = stop\n",
    "            \n",
    "            if int(bus.nextsttm.text) >= int(bus.laststtm.text):  #종점에 도착한 버스는 pop\n",
    "                bus_stop.pop(vehid)\n",
    "                \n",
    "        time.sleep(20)\n",
    "        busList = getData(routeID)\n",
    "        \n",
    "        print(\"-----------------------------\")\n",
    "        \n",
    "    "
   ]
  },
  {
   "cell_type": "code",
   "execution_count": 51,
   "metadata": {
    "scrolled": false
   },
   "outputs": [
    {
     "name": "stdout",
     "output_type": "stream",
     "text": [
      "dict_keys([])\n",
      "vehid:  124031133\n",
      "stop:  0\n",
      "vehid:  124031168\n",
      "stop:  0\n",
      "vehid:  124031170\n",
      "stop:  1\n",
      "db update\n",
      "vehid:  124031152\n",
      "stop:  0\n",
      "vehid:  124031151\n",
      "stop:  1\n",
      "db update\n",
      "vehid:  124031127\n",
      "stop:  0\n",
      "vehid:  124031005\n",
      "stop:  0\n",
      "vehid:  124031090\n",
      "stop:  0\n",
      "vehid:  124031166\n",
      "stop:  1\n",
      "db update\n",
      "vehid:  124031008\n",
      "stop:  0\n",
      "vehid:  124031087\n",
      "stop:  0\n",
      "vehid:  124031050\n",
      "stop:  1\n",
      "db update\n",
      "vehid:  124031091\n",
      "stop:  0\n",
      "vehid:  124031055\n",
      "stop:  0\n",
      "-----------------------------\n",
      "dict_keys(['124031133', '124031168', '124031170', '124031152', '124031151', '124031127', '124031005', '124031090', '124031166', '124031008', '124031087', '124031050', '124031091', '124031055'])\n",
      "vehid:  124031133\n",
      "stop:  0\n",
      "vehid:  124031168\n",
      "stop:  0\n",
      "vehid:  124031170\n",
      "stop:  0\n",
      "vehid:  124031152\n",
      "stop:  0\n",
      "vehid:  124031151\n",
      "stop:  1\n",
      "vehid:  124031127\n",
      "stop:  0\n",
      "vehid:  124031005\n",
      "stop:  1\n",
      "db update\n",
      "vehid:  124031090\n",
      "stop:  1\n",
      "db update\n",
      "vehid:  124031166\n",
      "stop:  0\n",
      "vehid:  124031008\n",
      "stop:  1\n",
      "db update\n",
      "vehid:  124031087\n",
      "stop:  1\n",
      "db update\n",
      "vehid:  124031050\n",
      "stop:  0\n",
      "vehid:  124031091\n",
      "stop:  1\n",
      "db update\n",
      "vehid:  124031055\n",
      "stop:  0\n",
      "-----------------------------\n",
      "dict_keys(['124031133', '124031168', '124031170', '124031152', '124031151', '124031127', '124031005', '124031090', '124031166', '124031008', '124031087', '124031050', '124031091', '124031055'])\n",
      "vehid:  124031133\n",
      "stop:  1\n",
      "db update\n",
      "vehid:  124031168\n",
      "stop:  1\n",
      "db update\n",
      "vehid:  124031170\n",
      "stop:  0\n",
      "vehid:  124031152\n",
      "stop:  0\n",
      "vehid:  124031151\n",
      "stop:  0\n",
      "vehid:  124031127\n",
      "stop:  1\n",
      "db update\n",
      "vehid:  124031005\n",
      "stop:  0\n",
      "vehid:  124031090\n",
      "stop:  1\n",
      "vehid:  124031166\n",
      "stop:  0\n",
      "vehid:  124031008\n",
      "stop:  1\n",
      "vehid:  124031087\n",
      "stop:  1\n",
      "vehid:  124031050\n",
      "stop:  0\n",
      "vehid:  124031091\n",
      "stop:  1\n",
      "vehid:  124031055\n",
      "stop:  0\n"
     ]
    },
    {
     "ename": "KeyboardInterrupt",
     "evalue": "",
     "output_type": "error",
     "traceback": [
      "\u001b[1;31m---------------------------------------------------------------------------\u001b[0m",
      "\u001b[1;31mKeyboardInterrupt\u001b[0m                         Traceback (most recent call last)",
      "\u001b[1;32m<ipython-input-51-650b75419987>\u001b[0m in \u001b[0;36m<module>\u001b[1;34m()\u001b[0m\n\u001b[1;32m----> 1\u001b[1;33m \u001b[0mtimetable\u001b[0m\u001b[1;33m(\u001b[0m\u001b[0mrouteID\u001b[0m\u001b[1;33m)\u001b[0m\u001b[1;33m\u001b[0m\u001b[0m\n\u001b[0m",
      "\u001b[1;32m<ipython-input-50-161d430dbef7>\u001b[0m in \u001b[0;36mtimetable\u001b[1;34m(routeID)\u001b[0m\n\u001b[0;32m     36\u001b[0m                 \u001b[0mbus_stop\u001b[0m\u001b[1;33m.\u001b[0m\u001b[0mpop\u001b[0m\u001b[1;33m(\u001b[0m\u001b[0mvehid\u001b[0m\u001b[1;33m)\u001b[0m\u001b[1;33m\u001b[0m\u001b[0m\n\u001b[0;32m     37\u001b[0m \u001b[1;33m\u001b[0m\u001b[0m\n\u001b[1;32m---> 38\u001b[1;33m         \u001b[0mtime\u001b[0m\u001b[1;33m.\u001b[0m\u001b[0msleep\u001b[0m\u001b[1;33m(\u001b[0m\u001b[1;36m20\u001b[0m\u001b[1;33m)\u001b[0m\u001b[1;33m\u001b[0m\u001b[0m\n\u001b[0m\u001b[0;32m     39\u001b[0m         \u001b[0mbusList\u001b[0m \u001b[1;33m=\u001b[0m \u001b[0mgetData\u001b[0m\u001b[1;33m(\u001b[0m\u001b[0mrouteID\u001b[0m\u001b[1;33m)\u001b[0m\u001b[1;33m\u001b[0m\u001b[0m\n\u001b[0;32m     40\u001b[0m \u001b[1;33m\u001b[0m\u001b[0m\n",
      "\u001b[1;31mKeyboardInterrupt\u001b[0m: "
     ]
    }
   ],
   "source": [
    "timetable(routeID)"
   ]
  },
  {
   "cell_type": "code",
   "execution_count": 52,
   "metadata": {},
   "outputs": [
    {
     "name": "stdout",
     "output_type": "stream",
     "text": [
      "(1, 100100055, '20180815', '150548', '127.127486', '37.550329')\n",
      "(2, 100100055, '20180815', '150542', '127.085723', '37.50511')\n",
      "(3, 100100055, '20180815', '150556', '127.068351', '37.501211')\n",
      "(4, 100100055, '20180815', '150556', '127.124027', '37.540367')\n",
      "(5, 100100055, '20180815', '150603', '127.02771', '37.489862')\n",
      "(6, 100100055, '20180815', '150609', '127.032876', '37.489747')\n",
      "(7, 100100055, '20180815', '150611', '127.085007', '37.505174')\n",
      "(8, 100100055, '20180815', '150611', '127.119885', '37.529152')\n",
      "(9, 100100055, '20180815', '150607', '127.143032', '37.554657')\n",
      "(10, 100100055, '20180815', '150628', '127.164429', '37.556565')\n",
      "(11, 100100055, '20180815', '150633', '127.14698', '37.554758')\n",
      "(12, 100100055, '20180815', '150627', '127.047924', '37.494666')\n"
     ]
    }
   ],
   "source": [
    "for row in conn.execute(select([Timetable])):\n",
    "    print(row)"
   ]
  },
  {
   "cell_type": "code",
   "execution_count": null,
   "metadata": {},
   "outputs": [],
   "source": []
  }
 ],
 "metadata": {
  "kernelspec": {
   "display_name": "Python 3",
   "language": "python",
   "name": "python3"
  },
  "language_info": {
   "codemirror_mode": {
    "name": "ipython",
    "version": 3
   },
   "file_extension": ".py",
   "mimetype": "text/x-python",
   "name": "python",
   "nbconvert_exporter": "python",
   "pygments_lexer": "ipython3",
   "version": "3.6.5"
  }
 },
 "nbformat": 4,
 "nbformat_minor": 2
}
